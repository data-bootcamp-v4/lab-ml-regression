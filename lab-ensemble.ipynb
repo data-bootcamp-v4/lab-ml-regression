{
 "cells": [
  {
   "cell_type": "markdown",
   "metadata": {},
   "source": [
    "# LAB | Ensemble Methods"
   ]
  },
  {
   "cell_type": "markdown",
   "metadata": {},
   "source": [
    "**Load the data**\n",
    "\n",
    "In this challenge, we will be working with the same Spaceship Titanic data, like the previous Lab. The data can be found here:\n",
    "\n",
    "https://raw.githubusercontent.com/data-bootcamp-v4/data/main/spaceship_titanic.csv\n",
    "\n",
    "Metadata\n",
    "\n",
    "https://github.com/data-bootcamp-v4/data/blob/main/spaceship_titanic.md"
   ]
  },
  {
   "cell_type": "markdown",
   "metadata": {},
   "source": [
    "In this Lab, you should try different ensemble methods in order to see if can obtain a better model than before. In order to do a fair comparison, you should perform the same feature scaling, engineering applied in previous Lab."
   ]
  },
  {
   "cell_type": "code",
   "execution_count": 183,
   "metadata": {},
   "outputs": [],
   "source": [
    "#Libraries\n",
    "import pandas as pd\n",
    "import numpy as np\n",
    "from sklearn.model_selection import train_test_split\n",
    "from sklearn.preprocessing import MinMaxScaler\n",
    "import seaborn as sns\n",
    "import matplotlib.pyplot as plt\n",
    "from sklearn.ensemble import BaggingRegressor, RandomForestRegressor,AdaBoostRegressor, GradientBoostingRegressor\n",
    "from sklearn.tree import DecisionTreeRegressor\n",
    "from sklearn.metrics import r2_score, mean_absolute_error, root_mean_squared_error\n"
   ]
  },
  {
   "cell_type": "code",
   "execution_count": null,
   "metadata": {},
   "outputs": [],
   "source": [
    "spaceship = pd.read_csv(\"https://raw.githubusercontent.com/data-bootcamp-v4/data/main/spaceship_titanic.csv\")\n",
    "spaceship.head()"
   ]
  },
  {
   "cell_type": "markdown",
   "metadata": {},
   "source": [
    "Now perform the same as before:\n",
    "- Feature Scaling\n",
    "- Feature Selection\n"
   ]
  },
  {
   "cell_type": "code",
   "execution_count": null,
   "metadata": {},
   "outputs": [],
   "source": [
    "spaceship.dropna(inplace=True)\n",
    "spaceship['Cabin'] = spaceship['Cabin'].apply(lambda x: x[0])\n",
    "spaceship = spaceship.drop(columns=['Name', 'PassengerId'])\n",
    "spaceship['VIP'] = spaceship['VIP'].astype('bool')\n",
    "for col in spaceship.select_dtypes(include=['object']).columns:\n",
    "    spaceship = pd.get_dummies(spaceship, columns=[col])\n",
    "spaceship = spaceship.astype('int64')\n",
    "display(spaceship)"
   ]
  },
  {
   "cell_type": "code",
   "execution_count": null,
   "metadata": {},
   "outputs": [],
   "source": [
    "\n",
    "\n",
    "# Calculate the correlation matrix\n",
    "corr_matrix = spaceship.corr()\n",
    "\n",
    "# Filter the correlation matrix for the \"Transported\" column\n",
    "corr_matrix_transported = corr_matrix[['Transported']]\n",
    "\n",
    "# Plot the heatmap\n",
    "plt.figure(figsize=(10, 8))\n",
    "sns.heatmap(corr_matrix_transported, annot=True, cmap='coolwarm', fmt='.2f')\n",
    "plt.title('Correlation with Transported')\n",
    "plt.show()\n"
   ]
  },
  {
   "cell_type": "markdown",
   "metadata": {},
   "source": [
    "**Perform Train Test Split**"
   ]
  },
  {
   "cell_type": "code",
   "execution_count": 187,
   "metadata": {},
   "outputs": [],
   "source": [
    "features = spaceship.drop(columns=['Transported'])\n",
    "target = spaceship[\"Transported\"]"
   ]
  },
  {
   "cell_type": "code",
   "execution_count": 188,
   "metadata": {},
   "outputs": [],
   "source": [
    "X_train, X_test, y_train, y_test = train_test_split(features, target, test_size=0.2, random_state=0)"
   ]
  },
  {
   "cell_type": "code",
   "execution_count": 189,
   "metadata": {},
   "outputs": [],
   "source": [
    "normalizer = MinMaxScaler()\n",
    "\n",
    "normalizer.fit(X_train)\n",
    "\n",
    "X_train_norm = normalizer.transform(X_train)\n",
    "X_test_norm = normalizer.transform(X_test)"
   ]
  },
  {
   "cell_type": "markdown",
   "metadata": {},
   "source": [
    "**Model Selection** - now you will try to apply different ensemble methods in order to get a better model"
   ]
  },
  {
   "cell_type": "markdown",
   "metadata": {},
   "source": [
    "- Bagging and Pasting"
   ]
  },
  {
   "cell_type": "code",
   "execution_count": null,
   "metadata": {},
   "outputs": [],
   "source": [
    "bagging_reg = BaggingRegressor(DecisionTreeRegressor(max_depth=20),\n",
    "                               n_estimators=100,\n",
    "                               max_samples = 1000, n_jobs=-1)\n",
    "\n",
    "bagging_reg.fit(X_train_norm, y_train)\n",
    "\n",
    "pred = bagging_reg.predict(X_test_norm)\n",
    "\n",
    "print(\"MAE\", mean_absolute_error(pred, y_test))\n",
    "print(\"RMSE\", root_mean_squared_error(pred, y_test))\n",
    "print(\"R2 score\", bagging_reg.score(X_test_norm, y_test))"
   ]
  },
  {
   "cell_type": "code",
   "execution_count": null,
   "metadata": {},
   "outputs": [],
   "source": [
    "\n",
    "pasting_reg = BaggingRegressor(DecisionTreeRegressor(max_depth=20),\n",
    "                               n_estimators=100,\n",
    "                               max_samples = 1000, n_jobs=-1,bootstrap=False)\n",
    "\n",
    "pasting_reg.fit(X_train_norm, y_train)\n",
    "\n",
    "pred = pasting_reg.predict(X_test_norm)\n",
    "\n",
    "print(\"MAE\", mean_absolute_error(pred, y_test))\n",
    "print(\"RMSE\", root_mean_squared_error(pred, y_test))\n",
    "print(\"R2 score\", pasting_reg.score(X_test_norm, y_test))"
   ]
  },
  {
   "cell_type": "markdown",
   "metadata": {},
   "source": [
    "- Random Forests"
   ]
  },
  {
   "cell_type": "code",
   "execution_count": null,
   "metadata": {},
   "outputs": [],
   "source": [
    "forest = RandomForestRegressor(n_estimators=100,\n",
    "                             max_depth=20)\n",
    "forest.fit(X_train_norm, y_train)\n",
    "\n",
    "pred = forest.predict(X_test_norm)\n",
    "\n",
    "print(\"MAE\", mean_absolute_error(pred, y_test))\n",
    "print(\"RMSE\", root_mean_squared_error(pred, y_test))\n",
    "print(\"R2 score\", forest.score(X_test_norm, y_test))"
   ]
  },
  {
   "cell_type": "markdown",
   "metadata": {},
   "source": [
    "- Gradient Boosting"
   ]
  },
  {
   "cell_type": "code",
   "execution_count": null,
   "metadata": {},
   "outputs": [],
   "source": [
    "gb_reg = GradientBoostingRegressor(max_depth=20,\n",
    "                                   n_estimators=100)\n",
    "\n",
    "gb_reg.fit(X_train_norm, y_train)\n",
    "\n",
    "pred = gb_reg.predict(X_test_norm)\n",
    "\n",
    "print(\"MAE\", mean_absolute_error(pred, y_test))\n",
    "print(\"RMSE\", root_mean_squared_error(pred, y_test))\n",
    "print(\"R2 score\", gb_reg.score(X_test_norm, y_test))"
   ]
  },
  {
   "cell_type": "markdown",
   "metadata": {},
   "source": [
    "- Adaptive Boosting"
   ]
  },
  {
   "cell_type": "code",
   "execution_count": null,
   "metadata": {},
   "outputs": [],
   "source": [
    "ada_reg = AdaBoostRegressor(DecisionTreeRegressor(max_depth=20),\n",
    "                            n_estimators=100)\n",
    "\n",
    "ada_reg.fit(X_train_norm, y_train)\n",
    "\n",
    "pred = ada_reg.predict(X_test_norm)\n",
    "\n",
    "print(\"MAE\", mean_absolute_error(pred, y_test))\n",
    "print(\"RMSE\", root_mean_squared_error(pred, y_test))\n",
    "print(\"R2 score\", ada_reg.score(X_test_norm, y_test))"
   ]
  },
  {
   "cell_type": "markdown",
   "metadata": {},
   "source": [
    "Which model is the best and why?"
   ]
  },
  {
   "cell_type": "code",
   "execution_count": 195,
   "metadata": {},
   "outputs": [],
   "source": [
    "# The best model is the bagging regressor, sometimes as pasting regressor, with a R2 score of 0.43"
   ]
  }
 ],
 "metadata": {
  "kernelspec": {
   "display_name": "base",
   "language": "python",
   "name": "python3"
  },
  "language_info": {
   "codemirror_mode": {
    "name": "ipython",
    "version": 3
   },
   "file_extension": ".py",
   "mimetype": "text/x-python",
   "name": "python",
   "nbconvert_exporter": "python",
   "pygments_lexer": "ipython3",
   "version": "3.12.4"
  }
 },
 "nbformat": 4,
 "nbformat_minor": 2
}
