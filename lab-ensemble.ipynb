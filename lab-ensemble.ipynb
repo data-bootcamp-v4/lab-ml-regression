{
 "cells": [
  {
   "cell_type": "markdown",
   "metadata": {},
   "source": [
    "# LAB | Ensemble Methods"
   ]
  },
  {
   "cell_type": "markdown",
   "metadata": {},
   "source": [
    "**Load the data**\n",
    "\n",
    "In this challenge, we will be working with the same Spaceship Titanic data, like the previous Lab. The data can be found here:\n",
    "\n",
    "https://raw.githubusercontent.com/data-bootcamp-v4/data/main/spaceship_titanic.csv\n",
    "\n",
    "Metadata\n",
    "\n",
    "https://github.com/data-bootcamp-v4/data/blob/main/spaceship_titanic.md"
   ]
  },
  {
   "cell_type": "markdown",
   "metadata": {},
   "source": [
    "In this Lab, you should try different ensemble methods in order to see if can obtain a better model than before. In order to do a fair comparison, you should perform the same feature scaling, engineering applied in previous Lab."
   ]
  },
  {
   "cell_type": "code",
   "execution_count": 1,
   "metadata": {},
   "outputs": [],
   "source": [
    "#Libraries\n",
    "import pandas as pd\n",
    "import numpy as np\n",
    "from sklearn.model_selection import train_test_split"
   ]
  },
  {
   "cell_type": "code",
   "execution_count": 2,
   "metadata": {},
   "outputs": [
    {
     "data": {
      "text/html": [
       "<div>\n",
       "<style scoped>\n",
       "    .dataframe tbody tr th:only-of-type {\n",
       "        vertical-align: middle;\n",
       "    }\n",
       "\n",
       "    .dataframe tbody tr th {\n",
       "        vertical-align: top;\n",
       "    }\n",
       "\n",
       "    .dataframe thead th {\n",
       "        text-align: right;\n",
       "    }\n",
       "</style>\n",
       "<table border=\"1\" class=\"dataframe\">\n",
       "  <thead>\n",
       "    <tr style=\"text-align: right;\">\n",
       "      <th></th>\n",
       "      <th>PassengerId</th>\n",
       "      <th>HomePlanet</th>\n",
       "      <th>CryoSleep</th>\n",
       "      <th>Cabin</th>\n",
       "      <th>Destination</th>\n",
       "      <th>Age</th>\n",
       "      <th>VIP</th>\n",
       "      <th>RoomService</th>\n",
       "      <th>FoodCourt</th>\n",
       "      <th>ShoppingMall</th>\n",
       "      <th>Spa</th>\n",
       "      <th>VRDeck</th>\n",
       "      <th>Name</th>\n",
       "      <th>Transported</th>\n",
       "    </tr>\n",
       "  </thead>\n",
       "  <tbody>\n",
       "    <tr>\n",
       "      <th>0</th>\n",
       "      <td>0001_01</td>\n",
       "      <td>Europa</td>\n",
       "      <td>False</td>\n",
       "      <td>B/0/P</td>\n",
       "      <td>TRAPPIST-1e</td>\n",
       "      <td>39.0</td>\n",
       "      <td>False</td>\n",
       "      <td>0.0</td>\n",
       "      <td>0.0</td>\n",
       "      <td>0.0</td>\n",
       "      <td>0.0</td>\n",
       "      <td>0.0</td>\n",
       "      <td>Maham Ofracculy</td>\n",
       "      <td>False</td>\n",
       "    </tr>\n",
       "    <tr>\n",
       "      <th>1</th>\n",
       "      <td>0002_01</td>\n",
       "      <td>Earth</td>\n",
       "      <td>False</td>\n",
       "      <td>F/0/S</td>\n",
       "      <td>TRAPPIST-1e</td>\n",
       "      <td>24.0</td>\n",
       "      <td>False</td>\n",
       "      <td>109.0</td>\n",
       "      <td>9.0</td>\n",
       "      <td>25.0</td>\n",
       "      <td>549.0</td>\n",
       "      <td>44.0</td>\n",
       "      <td>Juanna Vines</td>\n",
       "      <td>True</td>\n",
       "    </tr>\n",
       "    <tr>\n",
       "      <th>2</th>\n",
       "      <td>0003_01</td>\n",
       "      <td>Europa</td>\n",
       "      <td>False</td>\n",
       "      <td>A/0/S</td>\n",
       "      <td>TRAPPIST-1e</td>\n",
       "      <td>58.0</td>\n",
       "      <td>True</td>\n",
       "      <td>43.0</td>\n",
       "      <td>3576.0</td>\n",
       "      <td>0.0</td>\n",
       "      <td>6715.0</td>\n",
       "      <td>49.0</td>\n",
       "      <td>Altark Susent</td>\n",
       "      <td>False</td>\n",
       "    </tr>\n",
       "    <tr>\n",
       "      <th>3</th>\n",
       "      <td>0003_02</td>\n",
       "      <td>Europa</td>\n",
       "      <td>False</td>\n",
       "      <td>A/0/S</td>\n",
       "      <td>TRAPPIST-1e</td>\n",
       "      <td>33.0</td>\n",
       "      <td>False</td>\n",
       "      <td>0.0</td>\n",
       "      <td>1283.0</td>\n",
       "      <td>371.0</td>\n",
       "      <td>3329.0</td>\n",
       "      <td>193.0</td>\n",
       "      <td>Solam Susent</td>\n",
       "      <td>False</td>\n",
       "    </tr>\n",
       "    <tr>\n",
       "      <th>4</th>\n",
       "      <td>0004_01</td>\n",
       "      <td>Earth</td>\n",
       "      <td>False</td>\n",
       "      <td>F/1/S</td>\n",
       "      <td>TRAPPIST-1e</td>\n",
       "      <td>16.0</td>\n",
       "      <td>False</td>\n",
       "      <td>303.0</td>\n",
       "      <td>70.0</td>\n",
       "      <td>151.0</td>\n",
       "      <td>565.0</td>\n",
       "      <td>2.0</td>\n",
       "      <td>Willy Santantines</td>\n",
       "      <td>True</td>\n",
       "    </tr>\n",
       "  </tbody>\n",
       "</table>\n",
       "</div>"
      ],
      "text/plain": [
       "  PassengerId HomePlanet CryoSleep  Cabin  Destination   Age    VIP  \\\n",
       "0     0001_01     Europa     False  B/0/P  TRAPPIST-1e  39.0  False   \n",
       "1     0002_01      Earth     False  F/0/S  TRAPPIST-1e  24.0  False   \n",
       "2     0003_01     Europa     False  A/0/S  TRAPPIST-1e  58.0   True   \n",
       "3     0003_02     Europa     False  A/0/S  TRAPPIST-1e  33.0  False   \n",
       "4     0004_01      Earth     False  F/1/S  TRAPPIST-1e  16.0  False   \n",
       "\n",
       "   RoomService  FoodCourt  ShoppingMall     Spa  VRDeck               Name  \\\n",
       "0          0.0        0.0           0.0     0.0     0.0    Maham Ofracculy   \n",
       "1        109.0        9.0          25.0   549.0    44.0       Juanna Vines   \n",
       "2         43.0     3576.0           0.0  6715.0    49.0      Altark Susent   \n",
       "3          0.0     1283.0         371.0  3329.0   193.0       Solam Susent   \n",
       "4        303.0       70.0         151.0   565.0     2.0  Willy Santantines   \n",
       "\n",
       "   Transported  \n",
       "0        False  \n",
       "1         True  \n",
       "2        False  \n",
       "3        False  \n",
       "4         True  "
      ]
     },
     "execution_count": 2,
     "metadata": {},
     "output_type": "execute_result"
    }
   ],
   "source": [
    "spaceship = pd.read_csv(\"https://raw.githubusercontent.com/data-bootcamp-v4/data/main/spaceship_titanic.csv\")\n",
    "spaceship.head()"
   ]
  },
  {
   "cell_type": "code",
   "execution_count": 3,
   "metadata": {},
   "outputs": [
    {
     "name": "stdout",
     "output_type": "stream",
     "text": [
      "<class 'pandas.core.frame.DataFrame'>\n",
      "RangeIndex: 8693 entries, 0 to 8692\n",
      "Data columns (total 14 columns):\n",
      " #   Column        Non-Null Count  Dtype  \n",
      "---  ------        --------------  -----  \n",
      " 0   PassengerId   8693 non-null   object \n",
      " 1   HomePlanet    8492 non-null   object \n",
      " 2   CryoSleep     8476 non-null   object \n",
      " 3   Cabin         8494 non-null   object \n",
      " 4   Destination   8511 non-null   object \n",
      " 5   Age           8514 non-null   float64\n",
      " 6   VIP           8490 non-null   object \n",
      " 7   RoomService   8512 non-null   float64\n",
      " 8   FoodCourt     8510 non-null   float64\n",
      " 9   ShoppingMall  8485 non-null   float64\n",
      " 10  Spa           8510 non-null   float64\n",
      " 11  VRDeck        8505 non-null   float64\n",
      " 12  Name          8493 non-null   object \n",
      " 13  Transported   8693 non-null   bool   \n",
      "dtypes: bool(1), float64(6), object(7)\n",
      "memory usage: 891.5+ KB\n"
     ]
    }
   ],
   "source": [
    "spaceship.info()"
   ]
  },
  {
   "cell_type": "code",
   "execution_count": 4,
   "metadata": {},
   "outputs": [
    {
     "data": {
      "text/plain": [
       "PassengerId       0\n",
       "HomePlanet      201\n",
       "CryoSleep       217\n",
       "Cabin           199\n",
       "Destination     182\n",
       "Age             179\n",
       "VIP             203\n",
       "RoomService     181\n",
       "FoodCourt       183\n",
       "ShoppingMall    208\n",
       "Spa             183\n",
       "VRDeck          188\n",
       "Name            200\n",
       "Transported       0\n",
       "dtype: int64"
      ]
     },
     "execution_count": 4,
     "metadata": {},
     "output_type": "execute_result"
    }
   ],
   "source": [
    "spaceship.isnull().sum()"
   ]
  },
  {
   "cell_type": "code",
   "execution_count": 5,
   "metadata": {},
   "outputs": [],
   "source": [
    "spaceship_clean = spaceship.dropna()"
   ]
  },
  {
   "cell_type": "code",
   "execution_count": 6,
   "metadata": {},
   "outputs": [
    {
     "name": "stdout",
     "output_type": "stream",
     "text": [
      "['B' 'F' 'A' 'G' 'E' 'C' 'D' 'T']\n"
     ]
    },
    {
     "name": "stderr",
     "output_type": "stream",
     "text": [
      "C:\\Users\\Laura Ortiz\\AppData\\Local\\Temp\\ipykernel_18348\\2072740189.py:2: SettingWithCopyWarning: \n",
      "A value is trying to be set on a copy of a slice from a DataFrame.\n",
      "Try using .loc[row_indexer,col_indexer] = value instead\n",
      "\n",
      "See the caveats in the documentation: https://pandas.pydata.org/pandas-docs/stable/user_guide/indexing.html#returning-a-view-versus-a-copy\n",
      "  spaceship_clean['Deck'] = spaceship_clean['Cabin'].str[0]\n"
     ]
    }
   ],
   "source": [
    "# Extract the deck component from the Cabin column\n",
    "spaceship_clean['Deck'] = spaceship_clean['Cabin'].str[0]\n",
    "\n",
    "# Now that we have the Deck, drop the original Cabin column\n",
    "spaceship_clean = spaceship_clean.drop(columns=['Cabin'])\n",
    "\n",
    "# Check unique values to ensure we have the desired {'A', 'B', 'C', 'D', 'E', 'F', 'G', 'T'}\n",
    "print(spaceship_clean['Deck'].unique())"
   ]
  },
  {
   "cell_type": "markdown",
   "metadata": {},
   "source": [
    "Now perform the same as before:\n",
    "- Feature Scaling\n",
    "- Feature Selection\n"
   ]
  },
  {
   "cell_type": "code",
   "execution_count": 7,
   "metadata": {},
   "outputs": [],
   "source": [
    "#your code here\n",
    "\n",
    "# Drop PassengerId and Name\n",
    "spaceship_clean = spaceship_clean.drop(columns=['PassengerId', 'Name'])\n",
    "\n",
    "# Convert CryoSleep and VIP into numerical format\n",
    "spaceship_clean['CryoSleep'] = spaceship_clean['CryoSleep'].astype(int)\n",
    "spaceship_clean['VIP'] = spaceship_clean['VIP'].astype(int)\n",
    "\n",
    "# Perform one-hot encoding on categorical columns\n",
    "# Columns that need to be encoded: HomePlanet, Destination, Deck\n",
    "spaceship_clean = pd.get_dummies(spaceship_clean, columns=['HomePlanet', 'Destination', 'Deck'], drop_first=True)"
   ]
  },
  {
   "cell_type": "code",
   "execution_count": 8,
   "metadata": {},
   "outputs": [
    {
     "data": {
      "text/html": [
       "<div>\n",
       "<style scoped>\n",
       "    .dataframe tbody tr th:only-of-type {\n",
       "        vertical-align: middle;\n",
       "    }\n",
       "\n",
       "    .dataframe tbody tr th {\n",
       "        vertical-align: top;\n",
       "    }\n",
       "\n",
       "    .dataframe thead th {\n",
       "        text-align: right;\n",
       "    }\n",
       "</style>\n",
       "<table border=\"1\" class=\"dataframe\">\n",
       "  <thead>\n",
       "    <tr style=\"text-align: right;\">\n",
       "      <th></th>\n",
       "      <th>CryoSleep</th>\n",
       "      <th>Age</th>\n",
       "      <th>VIP</th>\n",
       "      <th>RoomService</th>\n",
       "      <th>FoodCourt</th>\n",
       "      <th>ShoppingMall</th>\n",
       "      <th>Spa</th>\n",
       "      <th>VRDeck</th>\n",
       "      <th>Transported</th>\n",
       "      <th>HomePlanet_Europa</th>\n",
       "      <th>HomePlanet_Mars</th>\n",
       "      <th>Destination_PSO J318.5-22</th>\n",
       "      <th>Destination_TRAPPIST-1e</th>\n",
       "      <th>Deck_B</th>\n",
       "      <th>Deck_C</th>\n",
       "      <th>Deck_D</th>\n",
       "      <th>Deck_E</th>\n",
       "      <th>Deck_F</th>\n",
       "      <th>Deck_G</th>\n",
       "      <th>Deck_T</th>\n",
       "    </tr>\n",
       "  </thead>\n",
       "  <tbody>\n",
       "    <tr>\n",
       "      <th>0</th>\n",
       "      <td>0</td>\n",
       "      <td>39.0</td>\n",
       "      <td>0</td>\n",
       "      <td>0.0</td>\n",
       "      <td>0.0</td>\n",
       "      <td>0.0</td>\n",
       "      <td>0.0</td>\n",
       "      <td>0.0</td>\n",
       "      <td>False</td>\n",
       "      <td>1</td>\n",
       "      <td>0</td>\n",
       "      <td>0</td>\n",
       "      <td>1</td>\n",
       "      <td>1</td>\n",
       "      <td>0</td>\n",
       "      <td>0</td>\n",
       "      <td>0</td>\n",
       "      <td>0</td>\n",
       "      <td>0</td>\n",
       "      <td>0</td>\n",
       "    </tr>\n",
       "    <tr>\n",
       "      <th>1</th>\n",
       "      <td>0</td>\n",
       "      <td>24.0</td>\n",
       "      <td>0</td>\n",
       "      <td>109.0</td>\n",
       "      <td>9.0</td>\n",
       "      <td>25.0</td>\n",
       "      <td>549.0</td>\n",
       "      <td>44.0</td>\n",
       "      <td>True</td>\n",
       "      <td>0</td>\n",
       "      <td>0</td>\n",
       "      <td>0</td>\n",
       "      <td>1</td>\n",
       "      <td>0</td>\n",
       "      <td>0</td>\n",
       "      <td>0</td>\n",
       "      <td>0</td>\n",
       "      <td>1</td>\n",
       "      <td>0</td>\n",
       "      <td>0</td>\n",
       "    </tr>\n",
       "    <tr>\n",
       "      <th>2</th>\n",
       "      <td>0</td>\n",
       "      <td>58.0</td>\n",
       "      <td>1</td>\n",
       "      <td>43.0</td>\n",
       "      <td>3576.0</td>\n",
       "      <td>0.0</td>\n",
       "      <td>6715.0</td>\n",
       "      <td>49.0</td>\n",
       "      <td>False</td>\n",
       "      <td>1</td>\n",
       "      <td>0</td>\n",
       "      <td>0</td>\n",
       "      <td>1</td>\n",
       "      <td>0</td>\n",
       "      <td>0</td>\n",
       "      <td>0</td>\n",
       "      <td>0</td>\n",
       "      <td>0</td>\n",
       "      <td>0</td>\n",
       "      <td>0</td>\n",
       "    </tr>\n",
       "    <tr>\n",
       "      <th>3</th>\n",
       "      <td>0</td>\n",
       "      <td>33.0</td>\n",
       "      <td>0</td>\n",
       "      <td>0.0</td>\n",
       "      <td>1283.0</td>\n",
       "      <td>371.0</td>\n",
       "      <td>3329.0</td>\n",
       "      <td>193.0</td>\n",
       "      <td>False</td>\n",
       "      <td>1</td>\n",
       "      <td>0</td>\n",
       "      <td>0</td>\n",
       "      <td>1</td>\n",
       "      <td>0</td>\n",
       "      <td>0</td>\n",
       "      <td>0</td>\n",
       "      <td>0</td>\n",
       "      <td>0</td>\n",
       "      <td>0</td>\n",
       "      <td>0</td>\n",
       "    </tr>\n",
       "    <tr>\n",
       "      <th>4</th>\n",
       "      <td>0</td>\n",
       "      <td>16.0</td>\n",
       "      <td>0</td>\n",
       "      <td>303.0</td>\n",
       "      <td>70.0</td>\n",
       "      <td>151.0</td>\n",
       "      <td>565.0</td>\n",
       "      <td>2.0</td>\n",
       "      <td>True</td>\n",
       "      <td>0</td>\n",
       "      <td>0</td>\n",
       "      <td>0</td>\n",
       "      <td>1</td>\n",
       "      <td>0</td>\n",
       "      <td>0</td>\n",
       "      <td>0</td>\n",
       "      <td>0</td>\n",
       "      <td>1</td>\n",
       "      <td>0</td>\n",
       "      <td>0</td>\n",
       "    </tr>\n",
       "    <tr>\n",
       "      <th>...</th>\n",
       "      <td>...</td>\n",
       "      <td>...</td>\n",
       "      <td>...</td>\n",
       "      <td>...</td>\n",
       "      <td>...</td>\n",
       "      <td>...</td>\n",
       "      <td>...</td>\n",
       "      <td>...</td>\n",
       "      <td>...</td>\n",
       "      <td>...</td>\n",
       "      <td>...</td>\n",
       "      <td>...</td>\n",
       "      <td>...</td>\n",
       "      <td>...</td>\n",
       "      <td>...</td>\n",
       "      <td>...</td>\n",
       "      <td>...</td>\n",
       "      <td>...</td>\n",
       "      <td>...</td>\n",
       "      <td>...</td>\n",
       "    </tr>\n",
       "    <tr>\n",
       "      <th>8688</th>\n",
       "      <td>0</td>\n",
       "      <td>41.0</td>\n",
       "      <td>1</td>\n",
       "      <td>0.0</td>\n",
       "      <td>6819.0</td>\n",
       "      <td>0.0</td>\n",
       "      <td>1643.0</td>\n",
       "      <td>74.0</td>\n",
       "      <td>False</td>\n",
       "      <td>1</td>\n",
       "      <td>0</td>\n",
       "      <td>0</td>\n",
       "      <td>0</td>\n",
       "      <td>0</td>\n",
       "      <td>0</td>\n",
       "      <td>0</td>\n",
       "      <td>0</td>\n",
       "      <td>0</td>\n",
       "      <td>0</td>\n",
       "      <td>0</td>\n",
       "    </tr>\n",
       "    <tr>\n",
       "      <th>8689</th>\n",
       "      <td>1</td>\n",
       "      <td>18.0</td>\n",
       "      <td>0</td>\n",
       "      <td>0.0</td>\n",
       "      <td>0.0</td>\n",
       "      <td>0.0</td>\n",
       "      <td>0.0</td>\n",
       "      <td>0.0</td>\n",
       "      <td>False</td>\n",
       "      <td>0</td>\n",
       "      <td>0</td>\n",
       "      <td>1</td>\n",
       "      <td>0</td>\n",
       "      <td>0</td>\n",
       "      <td>0</td>\n",
       "      <td>0</td>\n",
       "      <td>0</td>\n",
       "      <td>0</td>\n",
       "      <td>1</td>\n",
       "      <td>0</td>\n",
       "    </tr>\n",
       "    <tr>\n",
       "      <th>8690</th>\n",
       "      <td>0</td>\n",
       "      <td>26.0</td>\n",
       "      <td>0</td>\n",
       "      <td>0.0</td>\n",
       "      <td>0.0</td>\n",
       "      <td>1872.0</td>\n",
       "      <td>1.0</td>\n",
       "      <td>0.0</td>\n",
       "      <td>True</td>\n",
       "      <td>0</td>\n",
       "      <td>0</td>\n",
       "      <td>0</td>\n",
       "      <td>1</td>\n",
       "      <td>0</td>\n",
       "      <td>0</td>\n",
       "      <td>0</td>\n",
       "      <td>0</td>\n",
       "      <td>0</td>\n",
       "      <td>1</td>\n",
       "      <td>0</td>\n",
       "    </tr>\n",
       "    <tr>\n",
       "      <th>8691</th>\n",
       "      <td>0</td>\n",
       "      <td>32.0</td>\n",
       "      <td>0</td>\n",
       "      <td>0.0</td>\n",
       "      <td>1049.0</td>\n",
       "      <td>0.0</td>\n",
       "      <td>353.0</td>\n",
       "      <td>3235.0</td>\n",
       "      <td>False</td>\n",
       "      <td>1</td>\n",
       "      <td>0</td>\n",
       "      <td>0</td>\n",
       "      <td>0</td>\n",
       "      <td>0</td>\n",
       "      <td>0</td>\n",
       "      <td>0</td>\n",
       "      <td>1</td>\n",
       "      <td>0</td>\n",
       "      <td>0</td>\n",
       "      <td>0</td>\n",
       "    </tr>\n",
       "    <tr>\n",
       "      <th>8692</th>\n",
       "      <td>0</td>\n",
       "      <td>44.0</td>\n",
       "      <td>0</td>\n",
       "      <td>126.0</td>\n",
       "      <td>4688.0</td>\n",
       "      <td>0.0</td>\n",
       "      <td>0.0</td>\n",
       "      <td>12.0</td>\n",
       "      <td>True</td>\n",
       "      <td>1</td>\n",
       "      <td>0</td>\n",
       "      <td>0</td>\n",
       "      <td>1</td>\n",
       "      <td>0</td>\n",
       "      <td>0</td>\n",
       "      <td>0</td>\n",
       "      <td>1</td>\n",
       "      <td>0</td>\n",
       "      <td>0</td>\n",
       "      <td>0</td>\n",
       "    </tr>\n",
       "  </tbody>\n",
       "</table>\n",
       "<p>6606 rows × 20 columns</p>\n",
       "</div>"
      ],
      "text/plain": [
       "      CryoSleep   Age  VIP  RoomService  FoodCourt  ShoppingMall     Spa  \\\n",
       "0             0  39.0    0          0.0        0.0           0.0     0.0   \n",
       "1             0  24.0    0        109.0        9.0          25.0   549.0   \n",
       "2             0  58.0    1         43.0     3576.0           0.0  6715.0   \n",
       "3             0  33.0    0          0.0     1283.0         371.0  3329.0   \n",
       "4             0  16.0    0        303.0       70.0         151.0   565.0   \n",
       "...         ...   ...  ...          ...        ...           ...     ...   \n",
       "8688          0  41.0    1          0.0     6819.0           0.0  1643.0   \n",
       "8689          1  18.0    0          0.0        0.0           0.0     0.0   \n",
       "8690          0  26.0    0          0.0        0.0        1872.0     1.0   \n",
       "8691          0  32.0    0          0.0     1049.0           0.0   353.0   \n",
       "8692          0  44.0    0        126.0     4688.0           0.0     0.0   \n",
       "\n",
       "      VRDeck  Transported  HomePlanet_Europa  HomePlanet_Mars  \\\n",
       "0        0.0        False                  1                0   \n",
       "1       44.0         True                  0                0   \n",
       "2       49.0        False                  1                0   \n",
       "3      193.0        False                  1                0   \n",
       "4        2.0         True                  0                0   \n",
       "...      ...          ...                ...              ...   \n",
       "8688    74.0        False                  1                0   \n",
       "8689     0.0        False                  0                0   \n",
       "8690     0.0         True                  0                0   \n",
       "8691  3235.0        False                  1                0   \n",
       "8692    12.0         True                  1                0   \n",
       "\n",
       "      Destination_PSO J318.5-22  Destination_TRAPPIST-1e  Deck_B  Deck_C  \\\n",
       "0                             0                        1       1       0   \n",
       "1                             0                        1       0       0   \n",
       "2                             0                        1       0       0   \n",
       "3                             0                        1       0       0   \n",
       "4                             0                        1       0       0   \n",
       "...                         ...                      ...     ...     ...   \n",
       "8688                          0                        0       0       0   \n",
       "8689                          1                        0       0       0   \n",
       "8690                          0                        1       0       0   \n",
       "8691                          0                        0       0       0   \n",
       "8692                          0                        1       0       0   \n",
       "\n",
       "      Deck_D  Deck_E  Deck_F  Deck_G  Deck_T  \n",
       "0          0       0       0       0       0  \n",
       "1          0       0       1       0       0  \n",
       "2          0       0       0       0       0  \n",
       "3          0       0       0       0       0  \n",
       "4          0       0       1       0       0  \n",
       "...      ...     ...     ...     ...     ...  \n",
       "8688       0       0       0       0       0  \n",
       "8689       0       0       0       1       0  \n",
       "8690       0       0       0       1       0  \n",
       "8691       0       1       0       0       0  \n",
       "8692       0       1       0       0       0  \n",
       "\n",
       "[6606 rows x 20 columns]"
      ]
     },
     "execution_count": 8,
     "metadata": {},
     "output_type": "execute_result"
    }
   ],
   "source": [
    "spaceship_clean"
   ]
  },
  {
   "cell_type": "markdown",
   "metadata": {},
   "source": [
    "**Perform Train Test Split**"
   ]
  },
  {
   "cell_type": "code",
   "execution_count": 9,
   "metadata": {},
   "outputs": [],
   "source": [
    "#your code here\n",
    "\n",
    "x = spaceship_clean.drop(columns=['Transported'])\n",
    "y = spaceship_clean['Transported']\n",
    "\n",
    "# Split the data into training and testing sets\n",
    "X_train, X_test, y_train, y_test = train_test_split(x, y, test_size=0.2, random_state=42)"
   ]
  },
  {
   "cell_type": "markdown",
   "metadata": {},
   "source": [
    "datos normalizados"
   ]
  },
  {
   "cell_type": "code",
   "execution_count": 15,
   "metadata": {},
   "outputs": [],
   "source": [
    "# normalize the data\n",
    "from sklearn.preprocessing import MinMaxScaler\n",
    "\n",
    "scaler = MinMaxScaler()\n",
    "X_train_norm = scaler.fit_transform(X_train)\n",
    "X_test_norm = scaler.transform(X_test)"
   ]
  },
  {
   "cell_type": "markdown",
   "metadata": {},
   "source": [
    "datos escalados"
   ]
  },
  {
   "cell_type": "code",
   "execution_count": 16,
   "metadata": {},
   "outputs": [],
   "source": [
    "# Scale the data\n",
    "from sklearn.preprocessing import StandardScaler\n",
    "scaler = StandardScaler()\n",
    "X_train_scaled = scaler.fit_transform(X_train)\n",
    "X_test_scaled = scaler.transform(X_test)"
   ]
  },
  {
   "cell_type": "markdown",
   "metadata": {},
   "source": [
    "**Model Selection** - now you will try to apply different ensemble methods in order to get a better model"
   ]
  },
  {
   "cell_type": "markdown",
   "metadata": {},
   "source": [
    "- Bagging and Pasting"
   ]
  },
  {
   "cell_type": "code",
   "execution_count": 29,
   "metadata": {},
   "outputs": [
    {
     "name": "stdout",
     "output_type": "stream",
     "text": [
      "Accuracy de Bagging: 0.8071104387291982\n",
      "Reporte de clasificación para Bagging:\n",
      "\n",
      "              precision    recall  f1-score   support\n",
      "\n",
      "       False       0.80      0.81      0.81       653\n",
      "        True       0.82      0.80      0.81       669\n",
      "\n",
      "    accuracy                           0.81      1322\n",
      "   macro avg       0.81      0.81      0.81      1322\n",
      "weighted avg       0.81      0.81      0.81      1322\n",
      "\n"
     ]
    }
   ],
   "source": [
    "#your code here\n",
    "from sklearn.ensemble import BaggingClassifier\n",
    "from sklearn.tree import DecisionTreeClassifier\n",
    "from sklearn.metrics import accuracy_score, classification_report\n",
    "\n",
    "# Crear y entrenar el modelo de Bagging\n",
    "bagging_clf = BaggingClassifier(DecisionTreeClassifier(), n_estimators=100, max_samples=0.8, bootstrap=True, random_state=42)\n",
    "bagging_clf.fit(X_train, y_train)\n",
    "\n",
    "# Predicción y evaluación de Bagging\n",
    "y_pred_bagging = bagging_clf.predict(X_test)\n",
    "bagging_accuracy = accuracy_score(y_test, y_pred_bagging)\n",
    "print(f\"Accuracy de Bagging: {bagging_accuracy}\")\n",
    "print(\"Reporte de clasificación para Bagging:\\n\")\n",
    "print(classification_report(y_test, y_pred_bagging))"
   ]
  },
  {
   "cell_type": "markdown",
   "metadata": {},
   "source": [
    "pruebo el modelo con datos normalizados"
   ]
  },
  {
   "cell_type": "code",
   "execution_count": 30,
   "metadata": {},
   "outputs": [
    {
     "name": "stdout",
     "output_type": "stream",
     "text": [
      "Accuracy de Bagging: 0.8063540090771558\n",
      "Reporte de clasificación para Bagging datos normalizados:\n",
      "\n",
      "              precision    recall  f1-score   support\n",
      "\n",
      "       False       0.80      0.81      0.81       653\n",
      "        True       0.81      0.80      0.81       669\n",
      "\n",
      "    accuracy                           0.81      1322\n",
      "   macro avg       0.81      0.81      0.81      1322\n",
      "weighted avg       0.81      0.81      0.81      1322\n",
      "\n"
     ]
    }
   ],
   "source": [
    "# Crear y entrenar el modelo de Bagging\n",
    "bagging_clf = BaggingClassifier(DecisionTreeClassifier(), n_estimators=100, max_samples=0.8, bootstrap=True, random_state=42)\n",
    "bagging_clf.fit(X_train_norm, y_train)\n",
    "\n",
    "# Predicción y evaluación de Bagging\n",
    "y_pred_bagging = bagging_clf.predict(X_test_norm)\n",
    "bagging_accuracy_norm = accuracy_score(y_test, y_pred_bagging)\n",
    "print(f\"Accuracy de Bagging: {bagging_accuracy_norm}\")\n",
    "print(\"Reporte de clasificación para Bagging datos normalizados:\\n\")\n",
    "print(classification_report(y_test, y_pred_bagging))"
   ]
  },
  {
   "cell_type": "markdown",
   "metadata": {},
   "source": [
    "pruebo el modelo con datos escalados"
   ]
  },
  {
   "cell_type": "code",
   "execution_count": 31,
   "metadata": {},
   "outputs": [
    {
     "name": "stdout",
     "output_type": "stream",
     "text": [
      "Accuracy de Bagging: 0.8078668683812406\n",
      "Reporte de clasificación para Bagging datos escalados:\n",
      "\n",
      "              precision    recall  f1-score   support\n",
      "\n",
      "       False       0.80      0.81      0.81       653\n",
      "        True       0.82      0.80      0.81       669\n",
      "\n",
      "    accuracy                           0.81      1322\n",
      "   macro avg       0.81      0.81      0.81      1322\n",
      "weighted avg       0.81      0.81      0.81      1322\n",
      "\n"
     ]
    }
   ],
   "source": [
    "# Crear y entrenar el modelo de Bagging\n",
    "bagging_clf = BaggingClassifier(DecisionTreeClassifier(), n_estimators=100, max_samples=0.8, bootstrap=True, random_state=42)\n",
    "bagging_clf.fit(X_train_scaled, y_train)\n",
    "\n",
    "# Predicción y evaluación de Bagging\n",
    "y_pred_bagging = bagging_clf.predict(X_test_scaled)\n",
    "bagging_accuracy_scaled = accuracy_score(y_test, y_pred_bagging)\n",
    "print(f\"Accuracy de Bagging: {bagging_accuracy_scaled}\")\n",
    "print(\"Reporte de clasificación para Bagging datos escalados:\\n\")\n",
    "print(classification_report(y_test, y_pred_bagging))"
   ]
  },
  {
   "cell_type": "markdown",
   "metadata": {},
   "source": [
    "- Random Forests"
   ]
  },
  {
   "cell_type": "code",
   "execution_count": 32,
   "metadata": {},
   "outputs": [
    {
     "name": "stdout",
     "output_type": "stream",
     "text": [
      "Accuracy de Random Forest: 0.8101361573373677\n",
      "Reporte de clasificación para Random Forest:\n",
      "\n",
      "              precision    recall  f1-score   support\n",
      "\n",
      "       False       0.80      0.82      0.81       653\n",
      "        True       0.82      0.80      0.81       669\n",
      "\n",
      "    accuracy                           0.81      1322\n",
      "   macro avg       0.81      0.81      0.81      1322\n",
      "weighted avg       0.81      0.81      0.81      1322\n",
      "\n"
     ]
    }
   ],
   "source": [
    "#your code here\n",
    "from sklearn.ensemble import RandomForestClassifier\n",
    "\n",
    "# Crear y entrenar el modelo de Random Forest\n",
    "rf_clf = RandomForestClassifier(n_estimators=100, random_state=42)\n",
    "rf_clf.fit(X_train, y_train)\n",
    "\n",
    "# Predicción y evaluación de Random Forest\n",
    "y_pred_rf = rf_clf.predict(X_test)\n",
    "rf_accuracy = accuracy_score(y_test, y_pred_rf)\n",
    "print(f\"Accuracy de Random Forest: {rf_accuracy}\")\n",
    "print(\"Reporte de clasificación para Random Forest:\\n\")\n",
    "print(classification_report(y_test, y_pred_rf))"
   ]
  },
  {
   "cell_type": "markdown",
   "metadata": {},
   "source": [
    "pruebo el modelo con datos normalizados"
   ]
  },
  {
   "cell_type": "code",
   "execution_count": 33,
   "metadata": {},
   "outputs": [
    {
     "name": "stdout",
     "output_type": "stream",
     "text": [
      "Accuracy de Random Forest: 0.8116490166414524\n",
      "Reporte de clasificación para Random Forest datos normalizados:\n",
      "\n",
      "              precision    recall  f1-score   support\n",
      "\n",
      "       False       0.80      0.82      0.81       653\n",
      "        True       0.82      0.80      0.81       669\n",
      "\n",
      "    accuracy                           0.81      1322\n",
      "   macro avg       0.81      0.81      0.81      1322\n",
      "weighted avg       0.81      0.81      0.81      1322\n",
      "\n"
     ]
    }
   ],
   "source": [
    "# Crear y entrenar el modelo de Random Forest\n",
    "rf_clf = RandomForestClassifier(n_estimators=100, random_state=42)\n",
    "rf_clf.fit(X_train_norm, y_train)\n",
    "\n",
    "# Predicción y evaluación de Random Forest\n",
    "y_pred_rf = rf_clf.predict(X_test_norm)\n",
    "rf_accuracy_norm = accuracy_score(y_test, y_pred_rf)\n",
    "print(f\"Accuracy de Random Forest: {rf_accuracy_norm}\")\n",
    "print(\"Reporte de clasificación para Random Forest datos normalizados:\\n\")\n",
    "print(classification_report(y_test, y_pred_rf))"
   ]
  },
  {
   "cell_type": "markdown",
   "metadata": {},
   "source": [
    "pruebo el modelo con datos escalados"
   ]
  },
  {
   "cell_type": "code",
   "execution_count": 34,
   "metadata": {},
   "outputs": [
    {
     "name": "stdout",
     "output_type": "stream",
     "text": [
      "Accuracy de Random Forest: 0.8093797276853253\n",
      "Reporte de clasificación para Random Forest datos escalados:\n",
      "\n",
      "              precision    recall  f1-score   support\n",
      "\n",
      "       False       0.80      0.82      0.81       653\n",
      "        True       0.82      0.80      0.81       669\n",
      "\n",
      "    accuracy                           0.81      1322\n",
      "   macro avg       0.81      0.81      0.81      1322\n",
      "weighted avg       0.81      0.81      0.81      1322\n",
      "\n"
     ]
    }
   ],
   "source": [
    "# Crear y entrenar el modelo de Random Forest\n",
    "rf_clf = RandomForestClassifier(n_estimators=100, random_state=42)\n",
    "rf_clf.fit(X_train_scaled, y_train)\n",
    "\n",
    "# Predicción y evaluación de Random Forest\n",
    "y_pred_rf = rf_clf.predict(X_test_scaled)\n",
    "rf_accuracy_scaled = accuracy_score(y_test, y_pred_rf)\n",
    "print(f\"Accuracy de Random Forest: {rf_accuracy_scaled}\")\n",
    "print(\"Reporte de clasificación para Random Forest datos escalados:\\n\")\n",
    "print(classification_report(y_test, y_pred_rf))"
   ]
  },
  {
   "cell_type": "markdown",
   "metadata": {},
   "source": [
    "- Gradient Boosting"
   ]
  },
  {
   "cell_type": "code",
   "execution_count": 35,
   "metadata": {},
   "outputs": [
    {
     "name": "stdout",
     "output_type": "stream",
     "text": [
      "Accuracy de Gradient Boosting: 0.8071104387291982\n",
      "Reporte de clasificación para Gradient Boosting:\n",
      "\n",
      "              precision    recall  f1-score   support\n",
      "\n",
      "       False       0.84      0.76      0.79       653\n",
      "        True       0.78      0.86      0.82       669\n",
      "\n",
      "    accuracy                           0.81      1322\n",
      "   macro avg       0.81      0.81      0.81      1322\n",
      "weighted avg       0.81      0.81      0.81      1322\n",
      "\n"
     ]
    }
   ],
   "source": [
    "#your code here\n",
    "from sklearn.ensemble import GradientBoostingClassifier\n",
    "\n",
    "# Crear y entrenar el modelo de Gradient Boosting\n",
    "gb_clf = GradientBoostingClassifier(n_estimators=100, random_state=42)\n",
    "gb_clf.fit(X_train, y_train)\n",
    "\n",
    "# Predicción y evaluación de Gradient Boosting\n",
    "y_pred_gb = gb_clf.predict(X_test)\n",
    "gb_accuracy = accuracy_score(y_test, y_pred_gb)\n",
    "print(f\"Accuracy de Gradient Boosting: {gb_accuracy}\")\n",
    "print(\"Reporte de clasificación para Gradient Boosting:\\n\")\n",
    "print(classification_report(y_test, y_pred_gb))"
   ]
  },
  {
   "cell_type": "markdown",
   "metadata": {},
   "source": [
    "pruebo el modelo con datos normalizados"
   ]
  },
  {
   "cell_type": "code",
   "execution_count": 36,
   "metadata": {},
   "outputs": [
    {
     "name": "stdout",
     "output_type": "stream",
     "text": [
      "Accuracy de Gradient Boosting: 0.8071104387291982\n",
      "Reporte de clasificación para Gradient Boosting datos normalizados:\n",
      "\n",
      "              precision    recall  f1-score   support\n",
      "\n",
      "       False       0.84      0.76      0.79       653\n",
      "        True       0.78      0.86      0.82       669\n",
      "\n",
      "    accuracy                           0.81      1322\n",
      "   macro avg       0.81      0.81      0.81      1322\n",
      "weighted avg       0.81      0.81      0.81      1322\n",
      "\n"
     ]
    }
   ],
   "source": [
    "# Crear y entrenar el modelo de Gradient Boosting\n",
    "gb_clf = GradientBoostingClassifier(n_estimators=100, random_state=42)\n",
    "gb_clf.fit(X_train_norm, y_train)\n",
    "\n",
    "# Predicción y evaluación de Gradient Boosting\n",
    "y_pred_gb = gb_clf.predict(X_test_norm)\n",
    "gb_accuracy_norm = accuracy_score(y_test, y_pred_gb)\n",
    "print(f\"Accuracy de Gradient Boosting: {gb_accuracy_norm}\")\n",
    "print(\"Reporte de clasificación para Gradient Boosting datos normalizados:\\n\")\n",
    "print(classification_report(y_test, y_pred_gb))"
   ]
  },
  {
   "cell_type": "markdown",
   "metadata": {},
   "source": [
    "pruebo el modelo con datos escalados"
   ]
  },
  {
   "cell_type": "code",
   "execution_count": 37,
   "metadata": {},
   "outputs": [
    {
     "name": "stdout",
     "output_type": "stream",
     "text": [
      "Accuracy de Gradient Boosting: 0.8071104387291982\n",
      "Reporte de clasificación para Gradient Boosting datos escalados:\n",
      "\n",
      "              precision    recall  f1-score   support\n",
      "\n",
      "       False       0.84      0.76      0.79       653\n",
      "        True       0.78      0.86      0.82       669\n",
      "\n",
      "    accuracy                           0.81      1322\n",
      "   macro avg       0.81      0.81      0.81      1322\n",
      "weighted avg       0.81      0.81      0.81      1322\n",
      "\n"
     ]
    }
   ],
   "source": [
    "# Crear y entrenar el modelo de Gradient Boosting\n",
    "gb_clf = GradientBoostingClassifier(n_estimators=100, random_state=42)\n",
    "gb_clf.fit(X_train_scaled, y_train)\n",
    "\n",
    "# Predicción y evaluación de Gradient Boosting\n",
    "y_pred_gb = gb_clf.predict(X_test_scaled)\n",
    "gb_accuracy_scaled = accuracy_score(y_test, y_pred_gb)\n",
    "print(f\"Accuracy de Gradient Boosting: {gb_accuracy_scaled}\")\n",
    "print(\"Reporte de clasificación para Gradient Boosting datos escalados:\\n\")\n",
    "print(classification_report(y_test, y_pred_gb))"
   ]
  },
  {
   "cell_type": "markdown",
   "metadata": {},
   "source": [
    "- Adaptive Boosting"
   ]
  },
  {
   "cell_type": "code",
   "execution_count": 38,
   "metadata": {},
   "outputs": [
    {
     "name": "stderr",
     "output_type": "stream",
     "text": [
      "c:\\Anaconda\\lib\\site-packages\\sklearn\\ensemble\\_weight_boosting.py:527: FutureWarning: The SAMME.R algorithm (the default) is deprecated and will be removed in 1.6. Use the SAMME algorithm to circumvent this warning.\n",
      "  warnings.warn(\n"
     ]
    },
    {
     "name": "stdout",
     "output_type": "stream",
     "text": [
      "Accuracy de AdaBoost: 0.7957639939485628\n",
      "Reporte de clasificación para AdaBoost:\n",
      "\n",
      "              precision    recall  f1-score   support\n",
      "\n",
      "       False       0.82      0.76      0.79       653\n",
      "        True       0.78      0.83      0.80       669\n",
      "\n",
      "    accuracy                           0.80      1322\n",
      "   macro avg       0.80      0.80      0.80      1322\n",
      "weighted avg       0.80      0.80      0.80      1322\n",
      "\n"
     ]
    }
   ],
   "source": [
    "#your code here\n",
    "from sklearn.ensemble import AdaBoostClassifier\n",
    "\n",
    "# Crear y entrenar el modelo de AdaBoost\n",
    "ada_clf = AdaBoostClassifier(n_estimators=100, random_state=42)\n",
    "ada_clf.fit(X_train, y_train)\n",
    "\n",
    "# Predicción y evaluación de AdaBoost\n",
    "y_pred_ada = ada_clf.predict(X_test)\n",
    "ada_accuracy = accuracy_score(y_test, y_pred_ada)\n",
    "print(f\"Accuracy de AdaBoost: {ada_accuracy}\")\n",
    "print(\"Reporte de clasificación para AdaBoost:\\n\")\n",
    "print(classification_report(y_test, y_pred_ada))"
   ]
  },
  {
   "cell_type": "markdown",
   "metadata": {},
   "source": [
    "pruebo el modelo con datos normalizados"
   ]
  },
  {
   "cell_type": "code",
   "execution_count": 39,
   "metadata": {},
   "outputs": [
    {
     "name": "stderr",
     "output_type": "stream",
     "text": [
      "c:\\Anaconda\\lib\\site-packages\\sklearn\\ensemble\\_weight_boosting.py:527: FutureWarning: The SAMME.R algorithm (the default) is deprecated and will be removed in 1.6. Use the SAMME algorithm to circumvent this warning.\n",
      "  warnings.warn(\n"
     ]
    },
    {
     "name": "stdout",
     "output_type": "stream",
     "text": [
      "Accuracy de AdaBoost: 0.7957639939485628\n",
      "Reporte de clasificación para AdaBoost datos normalizados:\n",
      "\n",
      "              precision    recall  f1-score   support\n",
      "\n",
      "       False       0.82      0.76      0.79       653\n",
      "        True       0.78      0.83      0.80       669\n",
      "\n",
      "    accuracy                           0.80      1322\n",
      "   macro avg       0.80      0.80      0.80      1322\n",
      "weighted avg       0.80      0.80      0.80      1322\n",
      "\n"
     ]
    }
   ],
   "source": [
    "# Crear y entrenar el modelo de AdaBoost\n",
    "ada_clf = AdaBoostClassifier(n_estimators=100, random_state=42)\n",
    "ada_clf.fit(X_train_norm, y_train)\n",
    "\n",
    "# Predicción y evaluación de AdaBoost\n",
    "y_pred_ada = ada_clf.predict(X_test_norm)\n",
    "ada_accuracy_norm = accuracy_score(y_test, y_pred_ada)\n",
    "print(f\"Accuracy de AdaBoost: {ada_accuracy_norm}\")\n",
    "print(\"Reporte de clasificación para AdaBoost datos normalizados:\\n\")\n",
    "print(classification_report(y_test, y_pred_ada))"
   ]
  },
  {
   "cell_type": "markdown",
   "metadata": {},
   "source": [
    "pruebo el modelo con datos escalados"
   ]
  },
  {
   "cell_type": "code",
   "execution_count": 40,
   "metadata": {},
   "outputs": [
    {
     "name": "stderr",
     "output_type": "stream",
     "text": [
      "c:\\Anaconda\\lib\\site-packages\\sklearn\\ensemble\\_weight_boosting.py:527: FutureWarning: The SAMME.R algorithm (the default) is deprecated and will be removed in 1.6. Use the SAMME algorithm to circumvent this warning.\n",
      "  warnings.warn(\n"
     ]
    },
    {
     "name": "stdout",
     "output_type": "stream",
     "text": [
      "Accuracy de AdaBoost: 0.7957639939485628\n",
      "Reporte de clasificación para AdaBoost datos escalados:\n",
      "\n",
      "              precision    recall  f1-score   support\n",
      "\n",
      "       False       0.82      0.76      0.79       653\n",
      "        True       0.78      0.83      0.80       669\n",
      "\n",
      "    accuracy                           0.80      1322\n",
      "   macro avg       0.80      0.80      0.80      1322\n",
      "weighted avg       0.80      0.80      0.80      1322\n",
      "\n"
     ]
    }
   ],
   "source": [
    "# Crear y entrenar el modelo de AdaBoost\n",
    "ada_clf = AdaBoostClassifier(n_estimators=100, random_state=42)\n",
    "ada_clf.fit(X_train_scaled, y_train)\n",
    "\n",
    "# Predicción y evaluación de AdaBoost\n",
    "y_pred_ada = ada_clf.predict(X_test_scaled)\n",
    "ada_accuracy_scaled = accuracy_score(y_test, y_pred_ada)\n",
    "print(f\"Accuracy de AdaBoost: {ada_accuracy_scaled}\")\n",
    "print(\"Reporte de clasificación para AdaBoost datos escalados:\\n\")\n",
    "print(classification_report(y_test, y_pred_ada))"
   ]
  },
  {
   "cell_type": "markdown",
   "metadata": {},
   "source": [
    "Which model is the best and why?"
   ]
  },
  {
   "cell_type": "code",
   "execution_count": 41,
   "metadata": {},
   "outputs": [],
   "source": [
    "#comment here\n",
    "# Random Forest datos normalizados es el modelo con el accuracy más alto\n"
   ]
  }
 ],
 "metadata": {
  "kernelspec": {
   "display_name": "base",
   "language": "python",
   "name": "python3"
  },
  "language_info": {
   "codemirror_mode": {
    "name": "ipython",
    "version": 3
   },
   "file_extension": ".py",
   "mimetype": "text/x-python",
   "name": "python",
   "nbconvert_exporter": "python",
   "pygments_lexer": "ipython3",
   "version": "3.9.19"
  }
 },
 "nbformat": 4,
 "nbformat_minor": 2
}
