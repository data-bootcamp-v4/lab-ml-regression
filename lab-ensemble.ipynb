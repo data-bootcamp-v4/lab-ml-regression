{
 "cells": [
  {
   "cell_type": "markdown",
   "metadata": {},
   "source": [
    "# LAB | Ensemble Methods"
   ]
  },
  {
   "cell_type": "markdown",
   "metadata": {},
   "source": [
    "**Load the data**\n",
    "\n",
    "In this challenge, we will be working with the same Spaceship Titanic data, like the previous Lab. The data can be found here:\n",
    "\n",
    "https://raw.githubusercontent.com/data-bootcamp-v4/data/main/spaceship_titanic.csv\n",
    "\n",
    "Metadata\n",
    "\n",
    "https://github.com/data-bootcamp-v4/data/blob/main/spaceship_titanic.md"
   ]
  },
  {
   "cell_type": "markdown",
   "metadata": {},
   "source": [
    "In this Lab, you should try different ensemble methods in order to see if can obtain a better model than before. In order to do a fair comparison, you should perform the same feature scaling, engineering applied in previous Lab."
   ]
  },
  {
   "cell_type": "code",
   "execution_count": 64,
   "metadata": {},
   "outputs": [],
   "source": [
    "#Libraries\n",
    "import pandas as pd\n",
    "import numpy as np\n",
    "from sklearn.model_selection import train_test_split"
   ]
  },
  {
   "cell_type": "code",
   "execution_count": 65,
   "metadata": {},
   "outputs": [
    {
     "data": {
      "text/html": [
       "<div>\n",
       "<style scoped>\n",
       "    .dataframe tbody tr th:only-of-type {\n",
       "        vertical-align: middle;\n",
       "    }\n",
       "\n",
       "    .dataframe tbody tr th {\n",
       "        vertical-align: top;\n",
       "    }\n",
       "\n",
       "    .dataframe thead th {\n",
       "        text-align: right;\n",
       "    }\n",
       "</style>\n",
       "<table border=\"1\" class=\"dataframe\">\n",
       "  <thead>\n",
       "    <tr style=\"text-align: right;\">\n",
       "      <th></th>\n",
       "      <th>PassengerId</th>\n",
       "      <th>HomePlanet</th>\n",
       "      <th>CryoSleep</th>\n",
       "      <th>Cabin</th>\n",
       "      <th>Destination</th>\n",
       "      <th>Age</th>\n",
       "      <th>VIP</th>\n",
       "      <th>RoomService</th>\n",
       "      <th>FoodCourt</th>\n",
       "      <th>ShoppingMall</th>\n",
       "      <th>Spa</th>\n",
       "      <th>VRDeck</th>\n",
       "      <th>Name</th>\n",
       "      <th>Transported</th>\n",
       "    </tr>\n",
       "  </thead>\n",
       "  <tbody>\n",
       "    <tr>\n",
       "      <th>0</th>\n",
       "      <td>0001_01</td>\n",
       "      <td>Europa</td>\n",
       "      <td>False</td>\n",
       "      <td>B/0/P</td>\n",
       "      <td>TRAPPIST-1e</td>\n",
       "      <td>39.0</td>\n",
       "      <td>False</td>\n",
       "      <td>0.0</td>\n",
       "      <td>0.0</td>\n",
       "      <td>0.0</td>\n",
       "      <td>0.0</td>\n",
       "      <td>0.0</td>\n",
       "      <td>Maham Ofracculy</td>\n",
       "      <td>False</td>\n",
       "    </tr>\n",
       "    <tr>\n",
       "      <th>1</th>\n",
       "      <td>0002_01</td>\n",
       "      <td>Earth</td>\n",
       "      <td>False</td>\n",
       "      <td>F/0/S</td>\n",
       "      <td>TRAPPIST-1e</td>\n",
       "      <td>24.0</td>\n",
       "      <td>False</td>\n",
       "      <td>109.0</td>\n",
       "      <td>9.0</td>\n",
       "      <td>25.0</td>\n",
       "      <td>549.0</td>\n",
       "      <td>44.0</td>\n",
       "      <td>Juanna Vines</td>\n",
       "      <td>True</td>\n",
       "    </tr>\n",
       "    <tr>\n",
       "      <th>2</th>\n",
       "      <td>0003_01</td>\n",
       "      <td>Europa</td>\n",
       "      <td>False</td>\n",
       "      <td>A/0/S</td>\n",
       "      <td>TRAPPIST-1e</td>\n",
       "      <td>58.0</td>\n",
       "      <td>True</td>\n",
       "      <td>43.0</td>\n",
       "      <td>3576.0</td>\n",
       "      <td>0.0</td>\n",
       "      <td>6715.0</td>\n",
       "      <td>49.0</td>\n",
       "      <td>Altark Susent</td>\n",
       "      <td>False</td>\n",
       "    </tr>\n",
       "    <tr>\n",
       "      <th>3</th>\n",
       "      <td>0003_02</td>\n",
       "      <td>Europa</td>\n",
       "      <td>False</td>\n",
       "      <td>A/0/S</td>\n",
       "      <td>TRAPPIST-1e</td>\n",
       "      <td>33.0</td>\n",
       "      <td>False</td>\n",
       "      <td>0.0</td>\n",
       "      <td>1283.0</td>\n",
       "      <td>371.0</td>\n",
       "      <td>3329.0</td>\n",
       "      <td>193.0</td>\n",
       "      <td>Solam Susent</td>\n",
       "      <td>False</td>\n",
       "    </tr>\n",
       "    <tr>\n",
       "      <th>4</th>\n",
       "      <td>0004_01</td>\n",
       "      <td>Earth</td>\n",
       "      <td>False</td>\n",
       "      <td>F/1/S</td>\n",
       "      <td>TRAPPIST-1e</td>\n",
       "      <td>16.0</td>\n",
       "      <td>False</td>\n",
       "      <td>303.0</td>\n",
       "      <td>70.0</td>\n",
       "      <td>151.0</td>\n",
       "      <td>565.0</td>\n",
       "      <td>2.0</td>\n",
       "      <td>Willy Santantines</td>\n",
       "      <td>True</td>\n",
       "    </tr>\n",
       "  </tbody>\n",
       "</table>\n",
       "</div>"
      ],
      "text/plain": [
       "  PassengerId HomePlanet CryoSleep  Cabin  Destination   Age    VIP  \\\n",
       "0     0001_01     Europa     False  B/0/P  TRAPPIST-1e  39.0  False   \n",
       "1     0002_01      Earth     False  F/0/S  TRAPPIST-1e  24.0  False   \n",
       "2     0003_01     Europa     False  A/0/S  TRAPPIST-1e  58.0   True   \n",
       "3     0003_02     Europa     False  A/0/S  TRAPPIST-1e  33.0  False   \n",
       "4     0004_01      Earth     False  F/1/S  TRAPPIST-1e  16.0  False   \n",
       "\n",
       "   RoomService  FoodCourt  ShoppingMall     Spa  VRDeck               Name  \\\n",
       "0          0.0        0.0           0.0     0.0     0.0    Maham Ofracculy   \n",
       "1        109.0        9.0          25.0   549.0    44.0       Juanna Vines   \n",
       "2         43.0     3576.0           0.0  6715.0    49.0      Altark Susent   \n",
       "3          0.0     1283.0         371.0  3329.0   193.0       Solam Susent   \n",
       "4        303.0       70.0         151.0   565.0     2.0  Willy Santantines   \n",
       "\n",
       "   Transported  \n",
       "0        False  \n",
       "1         True  \n",
       "2        False  \n",
       "3        False  \n",
       "4         True  "
      ]
     },
     "execution_count": 65,
     "metadata": {},
     "output_type": "execute_result"
    }
   ],
   "source": [
    "spaceship = pd.read_csv(\"https://raw.githubusercontent.com/data-bootcamp-v4/data/main/spaceship_titanic.csv\")\n",
    "spaceship.head()"
   ]
  },
  {
   "cell_type": "code",
   "execution_count": 66,
   "metadata": {},
   "outputs": [
    {
     "name": "stdout",
     "output_type": "stream",
     "text": [
      "<class 'pandas.core.frame.DataFrame'>\n",
      "RangeIndex: 8693 entries, 0 to 8692\n",
      "Data columns (total 14 columns):\n",
      " #   Column        Non-Null Count  Dtype  \n",
      "---  ------        --------------  -----  \n",
      " 0   PassengerId   8693 non-null   object \n",
      " 1   HomePlanet    8492 non-null   object \n",
      " 2   CryoSleep     8476 non-null   object \n",
      " 3   Cabin         8494 non-null   object \n",
      " 4   Destination   8511 non-null   object \n",
      " 5   Age           8514 non-null   float64\n",
      " 6   VIP           8490 non-null   object \n",
      " 7   RoomService   8512 non-null   float64\n",
      " 8   FoodCourt     8510 non-null   float64\n",
      " 9   ShoppingMall  8485 non-null   float64\n",
      " 10  Spa           8510 non-null   float64\n",
      " 11  VRDeck        8505 non-null   float64\n",
      " 12  Name          8493 non-null   object \n",
      " 13  Transported   8693 non-null   bool   \n",
      "dtypes: bool(1), float64(6), object(7)\n",
      "memory usage: 891.5+ KB\n",
      "Categorical Variables:  Index(['HomePlanet', 'Cabin', 'Destination'], dtype='object')\n",
      "Numerical Variables:  Index(['CryoSleep', 'Age', 'VIP', 'RoomService', 'FoodCourt', 'ShoppingMall',\n",
      "       'Spa', 'VRDeck', 'Transported'],\n",
      "      dtype='object')\n"
     ]
    }
   ],
   "source": [
    "# let's do the usual cleaning. \n",
    "\n",
    "# check for data types\n",
    "spaceship.info()\n",
    "\n",
    "# Let's correct the VIP column\n",
    "spaceship['VIP'] = spaceship['VIP'].astype('bool')\n",
    "spaceship['CryoSleep'] = spaceship['CryoSleep'].astype('bool')\n",
    "\n",
    "\n",
    "# drop columns PassengerId and Name\n",
    "spaceship = spaceship.drop(['PassengerId', 'Name'], axis=1)\n",
    "\n",
    "# define categorial vs numerical columns\n",
    "cat_var = spaceship.select_dtypes(include=\"object\").columns\n",
    "num_var = spaceship.select_dtypes(exclude=\"object\").columns\n",
    "\n",
    "print(\"Categorical Variables: \", cat_var)\n",
    "print(\"Numerical Variables: \", num_var)\n",
    "\n",
    "len(cat_var) + len(num_var) == len (spaceship.columns)\n",
    "\n",
    "# we will drop rows containing any missing value\n",
    "spaceship = spaceship.dropna(axis=0)"
   ]
  },
  {
   "cell_type": "code",
   "execution_count": 67,
   "metadata": {},
   "outputs": [],
   "source": [
    "# let's explore the columns of type float: \n",
    "# they all look to be integers: \n",
    "float_columns = spaceship.select_dtypes(include=\"float\").columns\n",
    "\n",
    "test = spaceship[float_columns].sum()\n",
    "test2 = spaceship[float_columns].astype(int).sum()\n",
    "\n",
    "test - test2\n",
    "\n",
    "# we will cast them as int\n",
    "spaceship[float_columns] = spaceship[float_columns].astype(int)"
   ]
  },
  {
   "cell_type": "markdown",
   "metadata": {},
   "source": [
    "Now perform the same as before:\n",
    "- Feature Scaling\n",
    "- Feature Selection\n"
   ]
  },
  {
   "cell_type": "code",
   "execution_count": 68,
   "metadata": {},
   "outputs": [],
   "source": [
    "# feature engineering\n",
    "# transform cabin in order to obtain {'A', 'B', 'C', 'D', 'E', 'F', 'G', 'T'}\n",
    "spaceship['Cabin'] = spaceship['Cabin'].str.split('/').str[0]\n",
    "\n",
    "# do dummies for non-numerical columns \n",
    "spaceship = pd.get_dummies(spaceship, columns=cat_var, drop_first=True)\n",
    "# we'll drop the first column for each categorical variable to avoid having correlated variables. "
   ]
  },
  {
   "cell_type": "code",
   "execution_count": 69,
   "metadata": {},
   "outputs": [
    {
     "data": {
      "application/vnd.plotly.v1+json": {
       "config": {
        "plotlyServerURL": "https://plot.ly"
       },
       "data": [
        {
         "coloraxis": "coloraxis",
         "hovertemplate": "x: %{x}<br>y: %{y}<br>color: %{z}<extra></extra>",
         "name": "0",
         "type": "heatmap",
         "x": [
          "CryoSleep",
          "Age",
          "VIP",
          "RoomService",
          "FoodCourt",
          "ShoppingMall",
          "Spa",
          "VRDeck",
          "Transported",
          "HomePlanet_Europa",
          "HomePlanet_Mars",
          "Cabin_B",
          "Cabin_C",
          "Cabin_D",
          "Cabin_E",
          "Cabin_F",
          "Cabin_G",
          "Cabin_T",
          "Destination_PSO J318.5-22",
          "Destination_TRAPPIST-1e"
         ],
         "xaxis": "x",
         "y": [
          "CryoSleep",
          "Age",
          "VIP",
          "RoomService",
          "FoodCourt",
          "ShoppingMall",
          "Spa",
          "VRDeck",
          "Transported",
          "HomePlanet_Europa",
          "HomePlanet_Mars",
          "Cabin_B",
          "Cabin_C",
          "Cabin_D",
          "Cabin_E",
          "Cabin_F",
          "Cabin_G",
          "Cabin_T",
          "Destination_PSO J318.5-22",
          "Destination_TRAPPIST-1e"
         ],
         "yaxis": "y",
         "z": [
          [
           1,
           0.07877040579348103,
           0.048615798970843255,
           0.2461884767491529,
           0.203848255524488,
           0.2041277560197285,
           0.19835888804642993,
           0.1958203717976388,
           0.44215553254738343,
           0.09212474013865371,
           0.030327958494226703,
           0.119170693711941,
           0.031567173238834845,
           0.07527129485837343,
           0.10703158944507629,
           0.21922179934876945,
           0.25208001464027585,
           0.015720018578893994,
           0.09048595518671544,
           0.11073176356482091
          ],
          [
           0.07877040579348103,
           1,
           0.058044550394456516,
           0.07084650161617977,
           0.1302764717256154,
           0.03360053145611345,
           0.1251754134239755,
           0.10425877187611189,
           0.08228866357749055,
           0.22661756835524932,
           0.015335355276830519,
           0.11132362392181683,
           0.13175283725041437,
           0.0849823637106937,
           0.03128019912587081,
           0.023292547780185437,
           0.2241750789053361,
           0.012434996611919432,
           0.02219061411116964,
           0.001008958423025837
          ],
          [
           0.048615798970843255,
           0.058044550394456516,
           1,
           0.02852185760825947,
           0.09545756711061093,
           0.010298655390993824,
           0.043913421433843865,
           0.09092766574008662,
           0.02325313870315272,
           0.10179581422554566,
           0.02996608801999838,
           0.04614945837790539,
           0.050988557708110095,
           0.041078972089857106,
           0.012489632512760283,
           0.045471451719981425,
           0.06337527318995598,
           0.004582255193050496,
           0.002608732151706576,
           0.030627461020730964
          ],
          [
           0.2461884767491529,
           0.07084650161617977,
           0.02852185760825947,
           1,
           0.01662584773481532,
           0.05282049645149876,
           0.018045669309978786,
           0.017649848150745964,
           0.2471395909056898,
           0.07554590501152011,
           0.2571545674157281,
           0.06750270970905302,
           0.01531310887583441,
           0.17565855412748105,
           0.04929437578251922,
           0.09094057399801636,
           0.1518147582279014,
           0.007046525288051962,
           0.06351418743111,
           0.06398594982309443
          ],
          [
           0.203848255524488,
           0.1302764717256154,
           0.09545756711061093,
           0.01662584773481532,
           1,
           0.012571785685704015,
           0.2195803584923426,
           0.21619282035401935,
           0.0540153822766934,
           0.3752019859229462,
           0.13006977438816522,
           0.16544382078327322,
           0.2635109928123046,
           0.024546380676493278,
           0.04464771802532403,
           0.13949748407564247,
           0.15620702540960368,
           0.014497895169376836,
           0.06746233194082854,
           0.0762974438448414
          ],
          [
           0.2041277560197285,
           0.03360053145611345,
           0.010298655390993824,
           0.05282049645149876,
           0.012571785685704015,
           1,
           0.017991399042631327,
           0.002823011500626513,
           0.01184833119846448,
           0.01793003735697339,
           0.11150392673976421,
           0.005006802322554679,
           0.00707768980591621,
           0.04653390155931011,
           0.027931019161710896,
           0.07259115660645593,
           0.11118353711393052,
           0.005791545625245815,
           0.0317866057217582,
           0.030599620367370527
          ],
          [
           0.19835888804642993,
           0.1251754134239755,
           0.043913421433843865,
           0.018045669309978786,
           0.2195803584923426,
           0.017991399042631327,
           1,
           0.14902008558641097,
           0.22264379713341095,
           0.26967625522890326,
           0.09164538514427353,
           0.13764421494133924,
           0.16156232322694306,
           0.0408524247661928,
           0.017768099043026637,
           0.08967588013364959,
           0.128870667049784,
           0.05502389310094455,
           0.055091495267344456,
           0.035852686199585634
          ],
          [
           0.1958203717976388,
           0.10425877187611189,
           0.09092766574008662,
           0.017649848150745964,
           0.21619282035401935,
           0.002823011500626513,
           0.14902008558641097,
           1,
           0.20745310313639392,
           0.2903356980340466,
           0.11576188114232122,
           0.12527855277422695,
           0.2076426995554079,
           0.0005624672893748096,
           0.026148495637071324,
           0.09599806306186111,
           0.13329953410283338,
           0.012713056319486427,
           0.04790569943292808,
           0.049601276675083926
          ],
          [
           0.44215553254738343,
           0.08228866357749055,
           0.02325313870315272,
           0.2471395909056898,
           0.0540153822766934,
           0.01184833119846448,
           0.22264379713341095,
           0.20745310313639392,
           1,
           0.17980764284573728,
           0.014133177946125237,
           0.14353616739326852,
           0.11152245386909958,
           0.039558339170447175,
           0.10250848766270067,
           0.09074092325850516,
           0.02104653487702898,
           0.006978177469735202,
           0.002763050395630759,
           0.10640204726011793
          ],
          [
           0.09212474013865371,
           0.22661756835524932,
           0.10179581422554566,
           0.07554590501152011,
           0.3752019859229462,
           0.01793003735697339,
           0.26967625522890326,
           0.2903356980340466,
           0.17980764284573728,
           1,
           0.2968546669680444,
           0.553708132318241,
           0.5380150406542368,
           0.080334331007779,
           0.07794101650688552,
           0.4054405176162697,
           0.38001753078616335,
           0.03532837440079346,
           0.16905569499172682,
           0.15239874560065902
          ],
          [
           0.030327958494226703,
           0.015335355276830519,
           0.02996608801999838,
           0.2571545674157281,
           0.13006977438816522,
           0.11150392673976421,
           0.09164538514427353,
           0.11576188114232122,
           0.014133177946125237,
           0.2968546669680444,
           1,
           0.16437084321682857,
           0.15971227571721205,
           0.2379604854833758,
           0.15357981064947102,
           0.3435739439471379,
           0.3335961161193085,
           0.010487392817269991,
           0.11505376608213429,
           0.18368769038377145
          ],
          [
           0.119170693711941,
           0.11132362392181683,
           0.04614945837790539,
           0.06750270970905302,
           0.16544382078327322,
           0.005006802322554679,
           0.13764421494133924,
           0.12527855277422695,
           0.14353616739326852,
           0.553708132318241,
           0.16437084321682857,
           1,
           0.10073997667776523,
           0.07819315739106115,
           0.10915757913087057,
           0.22449571177544503,
           0.21041879721979487,
           0.006615018808529072,
           0.09907725590990027,
           0.09876467975970307
          ],
          [
           0.031567173238834845,
           0.13175283725041437,
           0.050988557708110095,
           0.01531310887583441,
           0.2635109928123046,
           0.00707768980591621,
           0.16156232322694306,
           0.2076426995554079,
           0.11152245386909958,
           0.5380150406542368,
           0.15971227571721205,
           0.10073997667776523,
           1,
           0.0759770216422534,
           0.10606385556941744,
           0.2181330965681915,
           0.2044551472752391,
           0.006427537190574981,
           0.08082898066566656,
           0.09625365522210763
          ],
          [
           0.07527129485837343,
           0.0849823637106937,
           0.041078972089857106,
           0.17565855412748105,
           0.024546380676493278,
           0.04653390155931011,
           0.0408524247661928,
           0.0005624672893748096,
           0.039558339170447175,
           0.080334331007779,
           0.2379604854833758,
           0.07819315739106115,
           0.0759770216422534,
           1,
           0.08232548810856236,
           0.1693122841065813,
           0.1586956244931709,
           0.004988977005495539,
           0.04910221083309263,
           0.019654341852938302
          ],
          [
           0.10703158944507629,
           0.03128019912587081,
           0.012489632512760283,
           0.04929437578251922,
           0.04464771802532403,
           0.027931019161710896,
           0.017768099043026637,
           0.026148495637071324,
           0.10250848766270067,
           0.07794101650688552,
           0.15357981064947102,
           0.10915757913087057,
           0.10606385556941744,
           0.08232548810856236,
           1,
           0.23635980010068566,
           0.22153895259275694,
           0.006964607523595589,
           0.05260050741251375,
           0.0946428393030548
          ],
          [
           0.21922179934876945,
           0.023292547780185437,
           0.045471451719981425,
           0.09094057399801636,
           0.13949748407564247,
           0.07259115660645593,
           0.08967588013364959,
           0.09599806306186111,
           0.09074092325850516,
           0.4054405176162697,
           0.3435739439471379,
           0.22449571177544503,
           0.2181330965681915,
           0.1693122841065813,
           0.23635980010068566,
           1,
           0.45562154496546714,
           0.014323554403599063,
           0.016200738412333954,
           0.1035130141762787
          ],
          [
           0.25208001464027585,
           0.2241750789053361,
           0.06337527318995598,
           0.1518147582279014,
           0.15620702540960368,
           0.11118353711393052,
           0.128870667049784,
           0.13329953410283338,
           0.02104653487702898,
           0.38001753078616335,
           0.3335961161193085,
           0.21041879721979487,
           0.2044551472752391,
           0.1586956244931709,
           0.22153895259275694,
           0.45562154496546714,
           1,
           0.013425401606478638,
           0.20985544010780136,
           0.03894885644247748
          ],
          [
           0.015720018578893994,
           0.012434996611919432,
           0.004582255193050496,
           0.007046525288051962,
           0.014497895169376836,
           0.005791545625245815,
           0.05502389310094455,
           0.012713056319486427,
           0.006978177469735202,
           0.03532837440079346,
           0.010487392817269991,
           0.006615018808529072,
           0.006427537190574981,
           0.004988977005495539,
           0.006964607523595589,
           0.014323554403599063,
           0.013425401606478638,
           1,
           0.006636855188927392,
           0.013691539610094396
          ],
          [
           0.09048595518671544,
           0.02219061411116964,
           0.002608732151706576,
           0.06351418743111,
           0.06746233194082854,
           0.0317866057217582,
           0.055091495267344456,
           0.04790569943292808,
           0.002763050395630759,
           0.16905569499172682,
           0.11505376608213429,
           0.09907725590990027,
           0.08082898066566656,
           0.04910221083309263,
           0.05260050741251375,
           0.016200738412333954,
           0.20985544010780136,
           0.006636855188927392,
           1,
           0.4847413350091158
          ],
          [
           0.11073176356482091,
           0.001008958423025837,
           0.030627461020730964,
           0.06398594982309443,
           0.0762974438448414,
           0.030599620367370527,
           0.035852686199585634,
           0.049601276675083926,
           0.10640204726011793,
           0.15239874560065902,
           0.18368769038377145,
           0.09876467975970307,
           0.09625365522210763,
           0.019654341852938302,
           0.0946428393030548,
           0.1035130141762787,
           0.03894885644247748,
           0.013691539610094396,
           0.4847413350091158,
           1
          ]
         ]
        }
       ],
       "layout": {
        "annotations": [
         {
          "font": {
           "size": 8
          },
          "showarrow": false,
          "text": "1.00",
          "x": "CryoSleep",
          "y": "CryoSleep"
         },
         {
          "font": {
           "size": 8
          },
          "showarrow": false,
          "text": "0.08",
          "x": "Age",
          "y": "CryoSleep"
         },
         {
          "font": {
           "size": 8
          },
          "showarrow": false,
          "text": "0.05",
          "x": "VIP",
          "y": "CryoSleep"
         },
         {
          "font": {
           "size": 8
          },
          "showarrow": false,
          "text": "0.25",
          "x": "RoomService",
          "y": "CryoSleep"
         },
         {
          "font": {
           "size": 8
          },
          "showarrow": false,
          "text": "0.20",
          "x": "FoodCourt",
          "y": "CryoSleep"
         },
         {
          "font": {
           "size": 8
          },
          "showarrow": false,
          "text": "0.20",
          "x": "ShoppingMall",
          "y": "CryoSleep"
         },
         {
          "font": {
           "size": 8
          },
          "showarrow": false,
          "text": "0.20",
          "x": "Spa",
          "y": "CryoSleep"
         },
         {
          "font": {
           "size": 8
          },
          "showarrow": false,
          "text": "0.20",
          "x": "VRDeck",
          "y": "CryoSleep"
         },
         {
          "font": {
           "size": 8
          },
          "showarrow": false,
          "text": "0.44",
          "x": "Transported",
          "y": "CryoSleep"
         },
         {
          "font": {
           "size": 8
          },
          "showarrow": false,
          "text": "0.09",
          "x": "HomePlanet_Europa",
          "y": "CryoSleep"
         },
         {
          "font": {
           "size": 8
          },
          "showarrow": false,
          "text": "0.03",
          "x": "HomePlanet_Mars",
          "y": "CryoSleep"
         },
         {
          "font": {
           "size": 8
          },
          "showarrow": false,
          "text": "0.12",
          "x": "Cabin_B",
          "y": "CryoSleep"
         },
         {
          "font": {
           "size": 8
          },
          "showarrow": false,
          "text": "0.03",
          "x": "Cabin_C",
          "y": "CryoSleep"
         },
         {
          "font": {
           "size": 8
          },
          "showarrow": false,
          "text": "0.08",
          "x": "Cabin_D",
          "y": "CryoSleep"
         },
         {
          "font": {
           "size": 8
          },
          "showarrow": false,
          "text": "0.11",
          "x": "Cabin_E",
          "y": "CryoSleep"
         },
         {
          "font": {
           "size": 8
          },
          "showarrow": false,
          "text": "0.22",
          "x": "Cabin_F",
          "y": "CryoSleep"
         },
         {
          "font": {
           "size": 8
          },
          "showarrow": false,
          "text": "0.25",
          "x": "Cabin_G",
          "y": "CryoSleep"
         },
         {
          "font": {
           "size": 8
          },
          "showarrow": false,
          "text": "0.02",
          "x": "Cabin_T",
          "y": "CryoSleep"
         },
         {
          "font": {
           "size": 8
          },
          "showarrow": false,
          "text": "0.09",
          "x": "Destination_PSO J318.5-22",
          "y": "CryoSleep"
         },
         {
          "font": {
           "size": 8
          },
          "showarrow": false,
          "text": "0.11",
          "x": "Destination_TRAPPIST-1e",
          "y": "CryoSleep"
         },
         {
          "font": {
           "size": 8
          },
          "showarrow": false,
          "text": "0.08",
          "x": "CryoSleep",
          "y": "Age"
         },
         {
          "font": {
           "size": 8
          },
          "showarrow": false,
          "text": "1.00",
          "x": "Age",
          "y": "Age"
         },
         {
          "font": {
           "size": 8
          },
          "showarrow": false,
          "text": "0.06",
          "x": "VIP",
          "y": "Age"
         },
         {
          "font": {
           "size": 8
          },
          "showarrow": false,
          "text": "0.07",
          "x": "RoomService",
          "y": "Age"
         },
         {
          "font": {
           "size": 8
          },
          "showarrow": false,
          "text": "0.13",
          "x": "FoodCourt",
          "y": "Age"
         },
         {
          "font": {
           "size": 8
          },
          "showarrow": false,
          "text": "0.03",
          "x": "ShoppingMall",
          "y": "Age"
         },
         {
          "font": {
           "size": 8
          },
          "showarrow": false,
          "text": "0.13",
          "x": "Spa",
          "y": "Age"
         },
         {
          "font": {
           "size": 8
          },
          "showarrow": false,
          "text": "0.10",
          "x": "VRDeck",
          "y": "Age"
         },
         {
          "font": {
           "size": 8
          },
          "showarrow": false,
          "text": "0.08",
          "x": "Transported",
          "y": "Age"
         },
         {
          "font": {
           "size": 8
          },
          "showarrow": false,
          "text": "0.23",
          "x": "HomePlanet_Europa",
          "y": "Age"
         },
         {
          "font": {
           "size": 8
          },
          "showarrow": false,
          "text": "0.02",
          "x": "HomePlanet_Mars",
          "y": "Age"
         },
         {
          "font": {
           "size": 8
          },
          "showarrow": false,
          "text": "0.11",
          "x": "Cabin_B",
          "y": "Age"
         },
         {
          "font": {
           "size": 8
          },
          "showarrow": false,
          "text": "0.13",
          "x": "Cabin_C",
          "y": "Age"
         },
         {
          "font": {
           "size": 8
          },
          "showarrow": false,
          "text": "0.08",
          "x": "Cabin_D",
          "y": "Age"
         },
         {
          "font": {
           "size": 8
          },
          "showarrow": false,
          "text": "0.03",
          "x": "Cabin_E",
          "y": "Age"
         },
         {
          "font": {
           "size": 8
          },
          "showarrow": false,
          "text": "0.02",
          "x": "Cabin_F",
          "y": "Age"
         },
         {
          "font": {
           "size": 8
          },
          "showarrow": false,
          "text": "0.22",
          "x": "Cabin_G",
          "y": "Age"
         },
         {
          "font": {
           "size": 8
          },
          "showarrow": false,
          "text": "0.01",
          "x": "Cabin_T",
          "y": "Age"
         },
         {
          "font": {
           "size": 8
          },
          "showarrow": false,
          "text": "0.02",
          "x": "Destination_PSO J318.5-22",
          "y": "Age"
         },
         {
          "font": {
           "size": 8
          },
          "showarrow": false,
          "text": "0.00",
          "x": "Destination_TRAPPIST-1e",
          "y": "Age"
         },
         {
          "font": {
           "size": 8
          },
          "showarrow": false,
          "text": "0.05",
          "x": "CryoSleep",
          "y": "VIP"
         },
         {
          "font": {
           "size": 8
          },
          "showarrow": false,
          "text": "0.06",
          "x": "Age",
          "y": "VIP"
         },
         {
          "font": {
           "size": 8
          },
          "showarrow": false,
          "text": "1.00",
          "x": "VIP",
          "y": "VIP"
         },
         {
          "font": {
           "size": 8
          },
          "showarrow": false,
          "text": "0.03",
          "x": "RoomService",
          "y": "VIP"
         },
         {
          "font": {
           "size": 8
          },
          "showarrow": false,
          "text": "0.10",
          "x": "FoodCourt",
          "y": "VIP"
         },
         {
          "font": {
           "size": 8
          },
          "showarrow": false,
          "text": "0.01",
          "x": "ShoppingMall",
          "y": "VIP"
         },
         {
          "font": {
           "size": 8
          },
          "showarrow": false,
          "text": "0.04",
          "x": "Spa",
          "y": "VIP"
         },
         {
          "font": {
           "size": 8
          },
          "showarrow": false,
          "text": "0.09",
          "x": "VRDeck",
          "y": "VIP"
         },
         {
          "font": {
           "size": 8
          },
          "showarrow": false,
          "text": "0.02",
          "x": "Transported",
          "y": "VIP"
         },
         {
          "font": {
           "size": 8
          },
          "showarrow": false,
          "text": "0.10",
          "x": "HomePlanet_Europa",
          "y": "VIP"
         },
         {
          "font": {
           "size": 8
          },
          "showarrow": false,
          "text": "0.03",
          "x": "HomePlanet_Mars",
          "y": "VIP"
         },
         {
          "font": {
           "size": 8
          },
          "showarrow": false,
          "text": "0.05",
          "x": "Cabin_B",
          "y": "VIP"
         },
         {
          "font": {
           "size": 8
          },
          "showarrow": false,
          "text": "0.05",
          "x": "Cabin_C",
          "y": "VIP"
         },
         {
          "font": {
           "size": 8
          },
          "showarrow": false,
          "text": "0.04",
          "x": "Cabin_D",
          "y": "VIP"
         },
         {
          "font": {
           "size": 8
          },
          "showarrow": false,
          "text": "0.01",
          "x": "Cabin_E",
          "y": "VIP"
         },
         {
          "font": {
           "size": 8
          },
          "showarrow": false,
          "text": "0.05",
          "x": "Cabin_F",
          "y": "VIP"
         },
         {
          "font": {
           "size": 8
          },
          "showarrow": false,
          "text": "0.06",
          "x": "Cabin_G",
          "y": "VIP"
         },
         {
          "font": {
           "size": 8
          },
          "showarrow": false,
          "text": "0.00",
          "x": "Cabin_T",
          "y": "VIP"
         },
         {
          "font": {
           "size": 8
          },
          "showarrow": false,
          "text": "0.00",
          "x": "Destination_PSO J318.5-22",
          "y": "VIP"
         },
         {
          "font": {
           "size": 8
          },
          "showarrow": false,
          "text": "0.03",
          "x": "Destination_TRAPPIST-1e",
          "y": "VIP"
         },
         {
          "font": {
           "size": 8
          },
          "showarrow": false,
          "text": "0.25",
          "x": "CryoSleep",
          "y": "RoomService"
         },
         {
          "font": {
           "size": 8
          },
          "showarrow": false,
          "text": "0.07",
          "x": "Age",
          "y": "RoomService"
         },
         {
          "font": {
           "size": 8
          },
          "showarrow": false,
          "text": "0.03",
          "x": "VIP",
          "y": "RoomService"
         },
         {
          "font": {
           "size": 8
          },
          "showarrow": false,
          "text": "1.00",
          "x": "RoomService",
          "y": "RoomService"
         },
         {
          "font": {
           "size": 8
          },
          "showarrow": false,
          "text": "0.02",
          "x": "FoodCourt",
          "y": "RoomService"
         },
         {
          "font": {
           "size": 8
          },
          "showarrow": false,
          "text": "0.05",
          "x": "ShoppingMall",
          "y": "RoomService"
         },
         {
          "font": {
           "size": 8
          },
          "showarrow": false,
          "text": "0.02",
          "x": "Spa",
          "y": "RoomService"
         },
         {
          "font": {
           "size": 8
          },
          "showarrow": false,
          "text": "0.02",
          "x": "VRDeck",
          "y": "RoomService"
         },
         {
          "font": {
           "size": 8
          },
          "showarrow": false,
          "text": "0.25",
          "x": "Transported",
          "y": "RoomService"
         },
         {
          "font": {
           "size": 8
          },
          "showarrow": false,
          "text": "0.08",
          "x": "HomePlanet_Europa",
          "y": "RoomService"
         },
         {
          "font": {
           "size": 8
          },
          "showarrow": false,
          "text": "0.26",
          "x": "HomePlanet_Mars",
          "y": "RoomService"
         },
         {
          "font": {
           "size": 8
          },
          "showarrow": false,
          "text": "0.07",
          "x": "Cabin_B",
          "y": "RoomService"
         },
         {
          "font": {
           "size": 8
          },
          "showarrow": false,
          "text": "0.02",
          "x": "Cabin_C",
          "y": "RoomService"
         },
         {
          "font": {
           "size": 8
          },
          "showarrow": false,
          "text": "0.18",
          "x": "Cabin_D",
          "y": "RoomService"
         },
         {
          "font": {
           "size": 8
          },
          "showarrow": false,
          "text": "0.05",
          "x": "Cabin_E",
          "y": "RoomService"
         },
         {
          "font": {
           "size": 8
          },
          "showarrow": false,
          "text": "0.09",
          "x": "Cabin_F",
          "y": "RoomService"
         },
         {
          "font": {
           "size": 8
          },
          "showarrow": false,
          "text": "0.15",
          "x": "Cabin_G",
          "y": "RoomService"
         },
         {
          "font": {
           "size": 8
          },
          "showarrow": false,
          "text": "0.01",
          "x": "Cabin_T",
          "y": "RoomService"
         },
         {
          "font": {
           "size": 8
          },
          "showarrow": false,
          "text": "0.06",
          "x": "Destination_PSO J318.5-22",
          "y": "RoomService"
         },
         {
          "font": {
           "size": 8
          },
          "showarrow": false,
          "text": "0.06",
          "x": "Destination_TRAPPIST-1e",
          "y": "RoomService"
         },
         {
          "font": {
           "size": 8
          },
          "showarrow": false,
          "text": "0.20",
          "x": "CryoSleep",
          "y": "FoodCourt"
         },
         {
          "font": {
           "size": 8
          },
          "showarrow": false,
          "text": "0.13",
          "x": "Age",
          "y": "FoodCourt"
         },
         {
          "font": {
           "size": 8
          },
          "showarrow": false,
          "text": "0.10",
          "x": "VIP",
          "y": "FoodCourt"
         },
         {
          "font": {
           "size": 8
          },
          "showarrow": false,
          "text": "0.02",
          "x": "RoomService",
          "y": "FoodCourt"
         },
         {
          "font": {
           "size": 8
          },
          "showarrow": false,
          "text": "1.00",
          "x": "FoodCourt",
          "y": "FoodCourt"
         },
         {
          "font": {
           "size": 8
          },
          "showarrow": false,
          "text": "0.01",
          "x": "ShoppingMall",
          "y": "FoodCourt"
         },
         {
          "font": {
           "size": 8
          },
          "showarrow": false,
          "text": "0.22",
          "x": "Spa",
          "y": "FoodCourt"
         },
         {
          "font": {
           "size": 8
          },
          "showarrow": false,
          "text": "0.22",
          "x": "VRDeck",
          "y": "FoodCourt"
         },
         {
          "font": {
           "size": 8
          },
          "showarrow": false,
          "text": "0.05",
          "x": "Transported",
          "y": "FoodCourt"
         },
         {
          "font": {
           "size": 8
          },
          "showarrow": false,
          "text": "0.38",
          "x": "HomePlanet_Europa",
          "y": "FoodCourt"
         },
         {
          "font": {
           "size": 8
          },
          "showarrow": false,
          "text": "0.13",
          "x": "HomePlanet_Mars",
          "y": "FoodCourt"
         },
         {
          "font": {
           "size": 8
          },
          "showarrow": false,
          "text": "0.17",
          "x": "Cabin_B",
          "y": "FoodCourt"
         },
         {
          "font": {
           "size": 8
          },
          "showarrow": false,
          "text": "0.26",
          "x": "Cabin_C",
          "y": "FoodCourt"
         },
         {
          "font": {
           "size": 8
          },
          "showarrow": false,
          "text": "0.02",
          "x": "Cabin_D",
          "y": "FoodCourt"
         },
         {
          "font": {
           "size": 8
          },
          "showarrow": false,
          "text": "0.04",
          "x": "Cabin_E",
          "y": "FoodCourt"
         },
         {
          "font": {
           "size": 8
          },
          "showarrow": false,
          "text": "0.14",
          "x": "Cabin_F",
          "y": "FoodCourt"
         },
         {
          "font": {
           "size": 8
          },
          "showarrow": false,
          "text": "0.16",
          "x": "Cabin_G",
          "y": "FoodCourt"
         },
         {
          "font": {
           "size": 8
          },
          "showarrow": false,
          "text": "0.01",
          "x": "Cabin_T",
          "y": "FoodCourt"
         },
         {
          "font": {
           "size": 8
          },
          "showarrow": false,
          "text": "0.07",
          "x": "Destination_PSO J318.5-22",
          "y": "FoodCourt"
         },
         {
          "font": {
           "size": 8
          },
          "showarrow": false,
          "text": "0.08",
          "x": "Destination_TRAPPIST-1e",
          "y": "FoodCourt"
         },
         {
          "font": {
           "size": 8
          },
          "showarrow": false,
          "text": "0.20",
          "x": "CryoSleep",
          "y": "ShoppingMall"
         },
         {
          "font": {
           "size": 8
          },
          "showarrow": false,
          "text": "0.03",
          "x": "Age",
          "y": "ShoppingMall"
         },
         {
          "font": {
           "size": 8
          },
          "showarrow": false,
          "text": "0.01",
          "x": "VIP",
          "y": "ShoppingMall"
         },
         {
          "font": {
           "size": 8
          },
          "showarrow": false,
          "text": "0.05",
          "x": "RoomService",
          "y": "ShoppingMall"
         },
         {
          "font": {
           "size": 8
          },
          "showarrow": false,
          "text": "0.01",
          "x": "FoodCourt",
          "y": "ShoppingMall"
         },
         {
          "font": {
           "size": 8
          },
          "showarrow": false,
          "text": "1.00",
          "x": "ShoppingMall",
          "y": "ShoppingMall"
         },
         {
          "font": {
           "size": 8
          },
          "showarrow": false,
          "text": "0.02",
          "x": "Spa",
          "y": "ShoppingMall"
         },
         {
          "font": {
           "size": 8
          },
          "showarrow": false,
          "text": "0.00",
          "x": "VRDeck",
          "y": "ShoppingMall"
         },
         {
          "font": {
           "size": 8
          },
          "showarrow": false,
          "text": "0.01",
          "x": "Transported",
          "y": "ShoppingMall"
         },
         {
          "font": {
           "size": 8
          },
          "showarrow": false,
          "text": "0.02",
          "x": "HomePlanet_Europa",
          "y": "ShoppingMall"
         },
         {
          "font": {
           "size": 8
          },
          "showarrow": false,
          "text": "0.11",
          "x": "HomePlanet_Mars",
          "y": "ShoppingMall"
         },
         {
          "font": {
           "size": 8
          },
          "showarrow": false,
          "text": "0.01",
          "x": "Cabin_B",
          "y": "ShoppingMall"
         },
         {
          "font": {
           "size": 8
          },
          "showarrow": false,
          "text": "0.01",
          "x": "Cabin_C",
          "y": "ShoppingMall"
         },
         {
          "font": {
           "size": 8
          },
          "showarrow": false,
          "text": "0.05",
          "x": "Cabin_D",
          "y": "ShoppingMall"
         },
         {
          "font": {
           "size": 8
          },
          "showarrow": false,
          "text": "0.03",
          "x": "Cabin_E",
          "y": "ShoppingMall"
         },
         {
          "font": {
           "size": 8
          },
          "showarrow": false,
          "text": "0.07",
          "x": "Cabin_F",
          "y": "ShoppingMall"
         },
         {
          "font": {
           "size": 8
          },
          "showarrow": false,
          "text": "0.11",
          "x": "Cabin_G",
          "y": "ShoppingMall"
         },
         {
          "font": {
           "size": 8
          },
          "showarrow": false,
          "text": "0.01",
          "x": "Cabin_T",
          "y": "ShoppingMall"
         },
         {
          "font": {
           "size": 8
          },
          "showarrow": false,
          "text": "0.03",
          "x": "Destination_PSO J318.5-22",
          "y": "ShoppingMall"
         },
         {
          "font": {
           "size": 8
          },
          "showarrow": false,
          "text": "0.03",
          "x": "Destination_TRAPPIST-1e",
          "y": "ShoppingMall"
         },
         {
          "font": {
           "size": 8
          },
          "showarrow": false,
          "text": "0.20",
          "x": "CryoSleep",
          "y": "Spa"
         },
         {
          "font": {
           "size": 8
          },
          "showarrow": false,
          "text": "0.13",
          "x": "Age",
          "y": "Spa"
         },
         {
          "font": {
           "size": 8
          },
          "showarrow": false,
          "text": "0.04",
          "x": "VIP",
          "y": "Spa"
         },
         {
          "font": {
           "size": 8
          },
          "showarrow": false,
          "text": "0.02",
          "x": "RoomService",
          "y": "Spa"
         },
         {
          "font": {
           "size": 8
          },
          "showarrow": false,
          "text": "0.22",
          "x": "FoodCourt",
          "y": "Spa"
         },
         {
          "font": {
           "size": 8
          },
          "showarrow": false,
          "text": "0.02",
          "x": "ShoppingMall",
          "y": "Spa"
         },
         {
          "font": {
           "size": 8
          },
          "showarrow": false,
          "text": "1.00",
          "x": "Spa",
          "y": "Spa"
         },
         {
          "font": {
           "size": 8
          },
          "showarrow": false,
          "text": "0.15",
          "x": "VRDeck",
          "y": "Spa"
         },
         {
          "font": {
           "size": 8
          },
          "showarrow": false,
          "text": "0.22",
          "x": "Transported",
          "y": "Spa"
         },
         {
          "font": {
           "size": 8
          },
          "showarrow": false,
          "text": "0.27",
          "x": "HomePlanet_Europa",
          "y": "Spa"
         },
         {
          "font": {
           "size": 8
          },
          "showarrow": false,
          "text": "0.09",
          "x": "HomePlanet_Mars",
          "y": "Spa"
         },
         {
          "font": {
           "size": 8
          },
          "showarrow": false,
          "text": "0.14",
          "x": "Cabin_B",
          "y": "Spa"
         },
         {
          "font": {
           "size": 8
          },
          "showarrow": false,
          "text": "0.16",
          "x": "Cabin_C",
          "y": "Spa"
         },
         {
          "font": {
           "size": 8
          },
          "showarrow": false,
          "text": "0.04",
          "x": "Cabin_D",
          "y": "Spa"
         },
         {
          "font": {
           "size": 8
          },
          "showarrow": false,
          "text": "0.02",
          "x": "Cabin_E",
          "y": "Spa"
         },
         {
          "font": {
           "size": 8
          },
          "showarrow": false,
          "text": "0.09",
          "x": "Cabin_F",
          "y": "Spa"
         },
         {
          "font": {
           "size": 8
          },
          "showarrow": false,
          "text": "0.13",
          "x": "Cabin_G",
          "y": "Spa"
         },
         {
          "font": {
           "size": 8
          },
          "showarrow": false,
          "text": "0.06",
          "x": "Cabin_T",
          "y": "Spa"
         },
         {
          "font": {
           "size": 8
          },
          "showarrow": false,
          "text": "0.06",
          "x": "Destination_PSO J318.5-22",
          "y": "Spa"
         },
         {
          "font": {
           "size": 8
          },
          "showarrow": false,
          "text": "0.04",
          "x": "Destination_TRAPPIST-1e",
          "y": "Spa"
         },
         {
          "font": {
           "size": 8
          },
          "showarrow": false,
          "text": "0.20",
          "x": "CryoSleep",
          "y": "VRDeck"
         },
         {
          "font": {
           "size": 8
          },
          "showarrow": false,
          "text": "0.10",
          "x": "Age",
          "y": "VRDeck"
         },
         {
          "font": {
           "size": 8
          },
          "showarrow": false,
          "text": "0.09",
          "x": "VIP",
          "y": "VRDeck"
         },
         {
          "font": {
           "size": 8
          },
          "showarrow": false,
          "text": "0.02",
          "x": "RoomService",
          "y": "VRDeck"
         },
         {
          "font": {
           "size": 8
          },
          "showarrow": false,
          "text": "0.22",
          "x": "FoodCourt",
          "y": "VRDeck"
         },
         {
          "font": {
           "size": 8
          },
          "showarrow": false,
          "text": "0.00",
          "x": "ShoppingMall",
          "y": "VRDeck"
         },
         {
          "font": {
           "size": 8
          },
          "showarrow": false,
          "text": "0.15",
          "x": "Spa",
          "y": "VRDeck"
         },
         {
          "font": {
           "size": 8
          },
          "showarrow": false,
          "text": "1.00",
          "x": "VRDeck",
          "y": "VRDeck"
         },
         {
          "font": {
           "size": 8
          },
          "showarrow": false,
          "text": "0.21",
          "x": "Transported",
          "y": "VRDeck"
         },
         {
          "font": {
           "size": 8
          },
          "showarrow": false,
          "text": "0.29",
          "x": "HomePlanet_Europa",
          "y": "VRDeck"
         },
         {
          "font": {
           "size": 8
          },
          "showarrow": false,
          "text": "0.12",
          "x": "HomePlanet_Mars",
          "y": "VRDeck"
         },
         {
          "font": {
           "size": 8
          },
          "showarrow": false,
          "text": "0.13",
          "x": "Cabin_B",
          "y": "VRDeck"
         },
         {
          "font": {
           "size": 8
          },
          "showarrow": false,
          "text": "0.21",
          "x": "Cabin_C",
          "y": "VRDeck"
         },
         {
          "font": {
           "size": 8
          },
          "showarrow": false,
          "text": "0.00",
          "x": "Cabin_D",
          "y": "VRDeck"
         },
         {
          "font": {
           "size": 8
          },
          "showarrow": false,
          "text": "0.03",
          "x": "Cabin_E",
          "y": "VRDeck"
         },
         {
          "font": {
           "size": 8
          },
          "showarrow": false,
          "text": "0.10",
          "x": "Cabin_F",
          "y": "VRDeck"
         },
         {
          "font": {
           "size": 8
          },
          "showarrow": false,
          "text": "0.13",
          "x": "Cabin_G",
          "y": "VRDeck"
         },
         {
          "font": {
           "size": 8
          },
          "showarrow": false,
          "text": "0.01",
          "x": "Cabin_T",
          "y": "VRDeck"
         },
         {
          "font": {
           "size": 8
          },
          "showarrow": false,
          "text": "0.05",
          "x": "Destination_PSO J318.5-22",
          "y": "VRDeck"
         },
         {
          "font": {
           "size": 8
          },
          "showarrow": false,
          "text": "0.05",
          "x": "Destination_TRAPPIST-1e",
          "y": "VRDeck"
         },
         {
          "font": {
           "size": 8
          },
          "showarrow": false,
          "text": "0.44",
          "x": "CryoSleep",
          "y": "Transported"
         },
         {
          "font": {
           "size": 8
          },
          "showarrow": false,
          "text": "0.08",
          "x": "Age",
          "y": "Transported"
         },
         {
          "font": {
           "size": 8
          },
          "showarrow": false,
          "text": "0.02",
          "x": "VIP",
          "y": "Transported"
         },
         {
          "font": {
           "size": 8
          },
          "showarrow": false,
          "text": "0.25",
          "x": "RoomService",
          "y": "Transported"
         },
         {
          "font": {
           "size": 8
          },
          "showarrow": false,
          "text": "0.05",
          "x": "FoodCourt",
          "y": "Transported"
         },
         {
          "font": {
           "size": 8
          },
          "showarrow": false,
          "text": "0.01",
          "x": "ShoppingMall",
          "y": "Transported"
         },
         {
          "font": {
           "size": 8
          },
          "showarrow": false,
          "text": "0.22",
          "x": "Spa",
          "y": "Transported"
         },
         {
          "font": {
           "size": 8
          },
          "showarrow": false,
          "text": "0.21",
          "x": "VRDeck",
          "y": "Transported"
         },
         {
          "font": {
           "size": 8
          },
          "showarrow": false,
          "text": "1.00",
          "x": "Transported",
          "y": "Transported"
         },
         {
          "font": {
           "size": 8
          },
          "showarrow": false,
          "text": "0.18",
          "x": "HomePlanet_Europa",
          "y": "Transported"
         },
         {
          "font": {
           "size": 8
          },
          "showarrow": false,
          "text": "0.01",
          "x": "HomePlanet_Mars",
          "y": "Transported"
         },
         {
          "font": {
           "size": 8
          },
          "showarrow": false,
          "text": "0.14",
          "x": "Cabin_B",
          "y": "Transported"
         },
         {
          "font": {
           "size": 8
          },
          "showarrow": false,
          "text": "0.11",
          "x": "Cabin_C",
          "y": "Transported"
         },
         {
          "font": {
           "size": 8
          },
          "showarrow": false,
          "text": "0.04",
          "x": "Cabin_D",
          "y": "Transported"
         },
         {
          "font": {
           "size": 8
          },
          "showarrow": false,
          "text": "0.10",
          "x": "Cabin_E",
          "y": "Transported"
         },
         {
          "font": {
           "size": 8
          },
          "showarrow": false,
          "text": "0.09",
          "x": "Cabin_F",
          "y": "Transported"
         },
         {
          "font": {
           "size": 8
          },
          "showarrow": false,
          "text": "0.02",
          "x": "Cabin_G",
          "y": "Transported"
         },
         {
          "font": {
           "size": 8
          },
          "showarrow": false,
          "text": "0.01",
          "x": "Cabin_T",
          "y": "Transported"
         },
         {
          "font": {
           "size": 8
          },
          "showarrow": false,
          "text": "0.00",
          "x": "Destination_PSO J318.5-22",
          "y": "Transported"
         },
         {
          "font": {
           "size": 8
          },
          "showarrow": false,
          "text": "0.11",
          "x": "Destination_TRAPPIST-1e",
          "y": "Transported"
         },
         {
          "font": {
           "size": 8
          },
          "showarrow": false,
          "text": "0.09",
          "x": "CryoSleep",
          "y": "HomePlanet_Europa"
         },
         {
          "font": {
           "size": 8
          },
          "showarrow": false,
          "text": "0.23",
          "x": "Age",
          "y": "HomePlanet_Europa"
         },
         {
          "font": {
           "size": 8
          },
          "showarrow": false,
          "text": "0.10",
          "x": "VIP",
          "y": "HomePlanet_Europa"
         },
         {
          "font": {
           "size": 8
          },
          "showarrow": false,
          "text": "0.08",
          "x": "RoomService",
          "y": "HomePlanet_Europa"
         },
         {
          "font": {
           "size": 8
          },
          "showarrow": false,
          "text": "0.38",
          "x": "FoodCourt",
          "y": "HomePlanet_Europa"
         },
         {
          "font": {
           "size": 8
          },
          "showarrow": false,
          "text": "0.02",
          "x": "ShoppingMall",
          "y": "HomePlanet_Europa"
         },
         {
          "font": {
           "size": 8
          },
          "showarrow": false,
          "text": "0.27",
          "x": "Spa",
          "y": "HomePlanet_Europa"
         },
         {
          "font": {
           "size": 8
          },
          "showarrow": false,
          "text": "0.29",
          "x": "VRDeck",
          "y": "HomePlanet_Europa"
         },
         {
          "font": {
           "size": 8
          },
          "showarrow": false,
          "text": "0.18",
          "x": "Transported",
          "y": "HomePlanet_Europa"
         },
         {
          "font": {
           "size": 8
          },
          "showarrow": false,
          "text": "1.00",
          "x": "HomePlanet_Europa",
          "y": "HomePlanet_Europa"
         },
         {
          "font": {
           "size": 8
          },
          "showarrow": false,
          "text": "0.30",
          "x": "HomePlanet_Mars",
          "y": "HomePlanet_Europa"
         },
         {
          "font": {
           "size": 8
          },
          "showarrow": false,
          "text": "0.55",
          "x": "Cabin_B",
          "y": "HomePlanet_Europa"
         },
         {
          "font": {
           "size": 8
          },
          "showarrow": false,
          "text": "0.54",
          "x": "Cabin_C",
          "y": "HomePlanet_Europa"
         },
         {
          "font": {
           "size": 8
          },
          "showarrow": false,
          "text": "0.08",
          "x": "Cabin_D",
          "y": "HomePlanet_Europa"
         },
         {
          "font": {
           "size": 8
          },
          "showarrow": false,
          "text": "0.08",
          "x": "Cabin_E",
          "y": "HomePlanet_Europa"
         },
         {
          "font": {
           "size": 8
          },
          "showarrow": false,
          "text": "0.41",
          "x": "Cabin_F",
          "y": "HomePlanet_Europa"
         },
         {
          "font": {
           "size": 8
          },
          "showarrow": false,
          "text": "0.38",
          "x": "Cabin_G",
          "y": "HomePlanet_Europa"
         },
         {
          "font": {
           "size": 8
          },
          "showarrow": false,
          "text": "0.04",
          "x": "Cabin_T",
          "y": "HomePlanet_Europa"
         },
         {
          "font": {
           "size": 8
          },
          "showarrow": false,
          "text": "0.17",
          "x": "Destination_PSO J318.5-22",
          "y": "HomePlanet_Europa"
         },
         {
          "font": {
           "size": 8
          },
          "showarrow": false,
          "text": "0.15",
          "x": "Destination_TRAPPIST-1e",
          "y": "HomePlanet_Europa"
         },
         {
          "font": {
           "size": 8
          },
          "showarrow": false,
          "text": "0.03",
          "x": "CryoSleep",
          "y": "HomePlanet_Mars"
         },
         {
          "font": {
           "size": 8
          },
          "showarrow": false,
          "text": "0.02",
          "x": "Age",
          "y": "HomePlanet_Mars"
         },
         {
          "font": {
           "size": 8
          },
          "showarrow": false,
          "text": "0.03",
          "x": "VIP",
          "y": "HomePlanet_Mars"
         },
         {
          "font": {
           "size": 8
          },
          "showarrow": false,
          "text": "0.26",
          "x": "RoomService",
          "y": "HomePlanet_Mars"
         },
         {
          "font": {
           "size": 8
          },
          "showarrow": false,
          "text": "0.13",
          "x": "FoodCourt",
          "y": "HomePlanet_Mars"
         },
         {
          "font": {
           "size": 8
          },
          "showarrow": false,
          "text": "0.11",
          "x": "ShoppingMall",
          "y": "HomePlanet_Mars"
         },
         {
          "font": {
           "size": 8
          },
          "showarrow": false,
          "text": "0.09",
          "x": "Spa",
          "y": "HomePlanet_Mars"
         },
         {
          "font": {
           "size": 8
          },
          "showarrow": false,
          "text": "0.12",
          "x": "VRDeck",
          "y": "HomePlanet_Mars"
         },
         {
          "font": {
           "size": 8
          },
          "showarrow": false,
          "text": "0.01",
          "x": "Transported",
          "y": "HomePlanet_Mars"
         },
         {
          "font": {
           "size": 8
          },
          "showarrow": false,
          "text": "0.30",
          "x": "HomePlanet_Europa",
          "y": "HomePlanet_Mars"
         },
         {
          "font": {
           "size": 8
          },
          "showarrow": false,
          "text": "1.00",
          "x": "HomePlanet_Mars",
          "y": "HomePlanet_Mars"
         },
         {
          "font": {
           "size": 8
          },
          "showarrow": false,
          "text": "0.16",
          "x": "Cabin_B",
          "y": "HomePlanet_Mars"
         },
         {
          "font": {
           "size": 8
          },
          "showarrow": false,
          "text": "0.16",
          "x": "Cabin_C",
          "y": "HomePlanet_Mars"
         },
         {
          "font": {
           "size": 8
          },
          "showarrow": false,
          "text": "0.24",
          "x": "Cabin_D",
          "y": "HomePlanet_Mars"
         },
         {
          "font": {
           "size": 8
          },
          "showarrow": false,
          "text": "0.15",
          "x": "Cabin_E",
          "y": "HomePlanet_Mars"
         },
         {
          "font": {
           "size": 8
          },
          "showarrow": false,
          "text": "0.34",
          "x": "Cabin_F",
          "y": "HomePlanet_Mars"
         },
         {
          "font": {
           "size": 8
          },
          "showarrow": false,
          "text": "0.33",
          "x": "Cabin_G",
          "y": "HomePlanet_Mars"
         },
         {
          "font": {
           "size": 8
          },
          "showarrow": false,
          "text": "0.01",
          "x": "Cabin_T",
          "y": "HomePlanet_Mars"
         },
         {
          "font": {
           "size": 8
          },
          "showarrow": false,
          "text": "0.12",
          "x": "Destination_PSO J318.5-22",
          "y": "HomePlanet_Mars"
         },
         {
          "font": {
           "size": 8
          },
          "showarrow": false,
          "text": "0.18",
          "x": "Destination_TRAPPIST-1e",
          "y": "HomePlanet_Mars"
         },
         {
          "font": {
           "size": 8
          },
          "showarrow": false,
          "text": "0.12",
          "x": "CryoSleep",
          "y": "Cabin_B"
         },
         {
          "font": {
           "size": 8
          },
          "showarrow": false,
          "text": "0.11",
          "x": "Age",
          "y": "Cabin_B"
         },
         {
          "font": {
           "size": 8
          },
          "showarrow": false,
          "text": "0.05",
          "x": "VIP",
          "y": "Cabin_B"
         },
         {
          "font": {
           "size": 8
          },
          "showarrow": false,
          "text": "0.07",
          "x": "RoomService",
          "y": "Cabin_B"
         },
         {
          "font": {
           "size": 8
          },
          "showarrow": false,
          "text": "0.17",
          "x": "FoodCourt",
          "y": "Cabin_B"
         },
         {
          "font": {
           "size": 8
          },
          "showarrow": false,
          "text": "0.01",
          "x": "ShoppingMall",
          "y": "Cabin_B"
         },
         {
          "font": {
           "size": 8
          },
          "showarrow": false,
          "text": "0.14",
          "x": "Spa",
          "y": "Cabin_B"
         },
         {
          "font": {
           "size": 8
          },
          "showarrow": false,
          "text": "0.13",
          "x": "VRDeck",
          "y": "Cabin_B"
         },
         {
          "font": {
           "size": 8
          },
          "showarrow": false,
          "text": "0.14",
          "x": "Transported",
          "y": "Cabin_B"
         },
         {
          "font": {
           "size": 8
          },
          "showarrow": false,
          "text": "0.55",
          "x": "HomePlanet_Europa",
          "y": "Cabin_B"
         },
         {
          "font": {
           "size": 8
          },
          "showarrow": false,
          "text": "0.16",
          "x": "HomePlanet_Mars",
          "y": "Cabin_B"
         },
         {
          "font": {
           "size": 8
          },
          "showarrow": false,
          "text": "1.00",
          "x": "Cabin_B",
          "y": "Cabin_B"
         },
         {
          "font": {
           "size": 8
          },
          "showarrow": false,
          "text": "0.10",
          "x": "Cabin_C",
          "y": "Cabin_B"
         },
         {
          "font": {
           "size": 8
          },
          "showarrow": false,
          "text": "0.08",
          "x": "Cabin_D",
          "y": "Cabin_B"
         },
         {
          "font": {
           "size": 8
          },
          "showarrow": false,
          "text": "0.11",
          "x": "Cabin_E",
          "y": "Cabin_B"
         },
         {
          "font": {
           "size": 8
          },
          "showarrow": false,
          "text": "0.22",
          "x": "Cabin_F",
          "y": "Cabin_B"
         },
         {
          "font": {
           "size": 8
          },
          "showarrow": false,
          "text": "0.21",
          "x": "Cabin_G",
          "y": "Cabin_B"
         },
         {
          "font": {
           "size": 8
          },
          "showarrow": false,
          "text": "0.01",
          "x": "Cabin_T",
          "y": "Cabin_B"
         },
         {
          "font": {
           "size": 8
          },
          "showarrow": false,
          "text": "0.10",
          "x": "Destination_PSO J318.5-22",
          "y": "Cabin_B"
         },
         {
          "font": {
           "size": 8
          },
          "showarrow": false,
          "text": "0.10",
          "x": "Destination_TRAPPIST-1e",
          "y": "Cabin_B"
         },
         {
          "font": {
           "size": 8
          },
          "showarrow": false,
          "text": "0.03",
          "x": "CryoSleep",
          "y": "Cabin_C"
         },
         {
          "font": {
           "size": 8
          },
          "showarrow": false,
          "text": "0.13",
          "x": "Age",
          "y": "Cabin_C"
         },
         {
          "font": {
           "size": 8
          },
          "showarrow": false,
          "text": "0.05",
          "x": "VIP",
          "y": "Cabin_C"
         },
         {
          "font": {
           "size": 8
          },
          "showarrow": false,
          "text": "0.02",
          "x": "RoomService",
          "y": "Cabin_C"
         },
         {
          "font": {
           "size": 8
          },
          "showarrow": false,
          "text": "0.26",
          "x": "FoodCourt",
          "y": "Cabin_C"
         },
         {
          "font": {
           "size": 8
          },
          "showarrow": false,
          "text": "0.01",
          "x": "ShoppingMall",
          "y": "Cabin_C"
         },
         {
          "font": {
           "size": 8
          },
          "showarrow": false,
          "text": "0.16",
          "x": "Spa",
          "y": "Cabin_C"
         },
         {
          "font": {
           "size": 8
          },
          "showarrow": false,
          "text": "0.21",
          "x": "VRDeck",
          "y": "Cabin_C"
         },
         {
          "font": {
           "size": 8
          },
          "showarrow": false,
          "text": "0.11",
          "x": "Transported",
          "y": "Cabin_C"
         },
         {
          "font": {
           "size": 8
          },
          "showarrow": false,
          "text": "0.54",
          "x": "HomePlanet_Europa",
          "y": "Cabin_C"
         },
         {
          "font": {
           "size": 8
          },
          "showarrow": false,
          "text": "0.16",
          "x": "HomePlanet_Mars",
          "y": "Cabin_C"
         },
         {
          "font": {
           "size": 8
          },
          "showarrow": false,
          "text": "0.10",
          "x": "Cabin_B",
          "y": "Cabin_C"
         },
         {
          "font": {
           "size": 8
          },
          "showarrow": false,
          "text": "1.00",
          "x": "Cabin_C",
          "y": "Cabin_C"
         },
         {
          "font": {
           "size": 8
          },
          "showarrow": false,
          "text": "0.08",
          "x": "Cabin_D",
          "y": "Cabin_C"
         },
         {
          "font": {
           "size": 8
          },
          "showarrow": false,
          "text": "0.11",
          "x": "Cabin_E",
          "y": "Cabin_C"
         },
         {
          "font": {
           "size": 8
          },
          "showarrow": false,
          "text": "0.22",
          "x": "Cabin_F",
          "y": "Cabin_C"
         },
         {
          "font": {
           "size": 8
          },
          "showarrow": false,
          "text": "0.20",
          "x": "Cabin_G",
          "y": "Cabin_C"
         },
         {
          "font": {
           "size": 8
          },
          "showarrow": false,
          "text": "0.01",
          "x": "Cabin_T",
          "y": "Cabin_C"
         },
         {
          "font": {
           "size": 8
          },
          "showarrow": false,
          "text": "0.08",
          "x": "Destination_PSO J318.5-22",
          "y": "Cabin_C"
         },
         {
          "font": {
           "size": 8
          },
          "showarrow": false,
          "text": "0.10",
          "x": "Destination_TRAPPIST-1e",
          "y": "Cabin_C"
         },
         {
          "font": {
           "size": 8
          },
          "showarrow": false,
          "text": "0.08",
          "x": "CryoSleep",
          "y": "Cabin_D"
         },
         {
          "font": {
           "size": 8
          },
          "showarrow": false,
          "text": "0.08",
          "x": "Age",
          "y": "Cabin_D"
         },
         {
          "font": {
           "size": 8
          },
          "showarrow": false,
          "text": "0.04",
          "x": "VIP",
          "y": "Cabin_D"
         },
         {
          "font": {
           "size": 8
          },
          "showarrow": false,
          "text": "0.18",
          "x": "RoomService",
          "y": "Cabin_D"
         },
         {
          "font": {
           "size": 8
          },
          "showarrow": false,
          "text": "0.02",
          "x": "FoodCourt",
          "y": "Cabin_D"
         },
         {
          "font": {
           "size": 8
          },
          "showarrow": false,
          "text": "0.05",
          "x": "ShoppingMall",
          "y": "Cabin_D"
         },
         {
          "font": {
           "size": 8
          },
          "showarrow": false,
          "text": "0.04",
          "x": "Spa",
          "y": "Cabin_D"
         },
         {
          "font": {
           "size": 8
          },
          "showarrow": false,
          "text": "0.00",
          "x": "VRDeck",
          "y": "Cabin_D"
         },
         {
          "font": {
           "size": 8
          },
          "showarrow": false,
          "text": "0.04",
          "x": "Transported",
          "y": "Cabin_D"
         },
         {
          "font": {
           "size": 8
          },
          "showarrow": false,
          "text": "0.08",
          "x": "HomePlanet_Europa",
          "y": "Cabin_D"
         },
         {
          "font": {
           "size": 8
          },
          "showarrow": false,
          "text": "0.24",
          "x": "HomePlanet_Mars",
          "y": "Cabin_D"
         },
         {
          "font": {
           "size": 8
          },
          "showarrow": false,
          "text": "0.08",
          "x": "Cabin_B",
          "y": "Cabin_D"
         },
         {
          "font": {
           "size": 8
          },
          "showarrow": false,
          "text": "0.08",
          "x": "Cabin_C",
          "y": "Cabin_D"
         },
         {
          "font": {
           "size": 8
          },
          "showarrow": false,
          "text": "1.00",
          "x": "Cabin_D",
          "y": "Cabin_D"
         },
         {
          "font": {
           "size": 8
          },
          "showarrow": false,
          "text": "0.08",
          "x": "Cabin_E",
          "y": "Cabin_D"
         },
         {
          "font": {
           "size": 8
          },
          "showarrow": false,
          "text": "0.17",
          "x": "Cabin_F",
          "y": "Cabin_D"
         },
         {
          "font": {
           "size": 8
          },
          "showarrow": false,
          "text": "0.16",
          "x": "Cabin_G",
          "y": "Cabin_D"
         },
         {
          "font": {
           "size": 8
          },
          "showarrow": false,
          "text": "0.00",
          "x": "Cabin_T",
          "y": "Cabin_D"
         },
         {
          "font": {
           "size": 8
          },
          "showarrow": false,
          "text": "0.05",
          "x": "Destination_PSO J318.5-22",
          "y": "Cabin_D"
         },
         {
          "font": {
           "size": 8
          },
          "showarrow": false,
          "text": "0.02",
          "x": "Destination_TRAPPIST-1e",
          "y": "Cabin_D"
         },
         {
          "font": {
           "size": 8
          },
          "showarrow": false,
          "text": "0.11",
          "x": "CryoSleep",
          "y": "Cabin_E"
         },
         {
          "font": {
           "size": 8
          },
          "showarrow": false,
          "text": "0.03",
          "x": "Age",
          "y": "Cabin_E"
         },
         {
          "font": {
           "size": 8
          },
          "showarrow": false,
          "text": "0.01",
          "x": "VIP",
          "y": "Cabin_E"
         },
         {
          "font": {
           "size": 8
          },
          "showarrow": false,
          "text": "0.05",
          "x": "RoomService",
          "y": "Cabin_E"
         },
         {
          "font": {
           "size": 8
          },
          "showarrow": false,
          "text": "0.04",
          "x": "FoodCourt",
          "y": "Cabin_E"
         },
         {
          "font": {
           "size": 8
          },
          "showarrow": false,
          "text": "0.03",
          "x": "ShoppingMall",
          "y": "Cabin_E"
         },
         {
          "font": {
           "size": 8
          },
          "showarrow": false,
          "text": "0.02",
          "x": "Spa",
          "y": "Cabin_E"
         },
         {
          "font": {
           "size": 8
          },
          "showarrow": false,
          "text": "0.03",
          "x": "VRDeck",
          "y": "Cabin_E"
         },
         {
          "font": {
           "size": 8
          },
          "showarrow": false,
          "text": "0.10",
          "x": "Transported",
          "y": "Cabin_E"
         },
         {
          "font": {
           "size": 8
          },
          "showarrow": false,
          "text": "0.08",
          "x": "HomePlanet_Europa",
          "y": "Cabin_E"
         },
         {
          "font": {
           "size": 8
          },
          "showarrow": false,
          "text": "0.15",
          "x": "HomePlanet_Mars",
          "y": "Cabin_E"
         },
         {
          "font": {
           "size": 8
          },
          "showarrow": false,
          "text": "0.11",
          "x": "Cabin_B",
          "y": "Cabin_E"
         },
         {
          "font": {
           "size": 8
          },
          "showarrow": false,
          "text": "0.11",
          "x": "Cabin_C",
          "y": "Cabin_E"
         },
         {
          "font": {
           "size": 8
          },
          "showarrow": false,
          "text": "0.08",
          "x": "Cabin_D",
          "y": "Cabin_E"
         },
         {
          "font": {
           "size": 8
          },
          "showarrow": false,
          "text": "1.00",
          "x": "Cabin_E",
          "y": "Cabin_E"
         },
         {
          "font": {
           "size": 8
          },
          "showarrow": false,
          "text": "0.24",
          "x": "Cabin_F",
          "y": "Cabin_E"
         },
         {
          "font": {
           "size": 8
          },
          "showarrow": false,
          "text": "0.22",
          "x": "Cabin_G",
          "y": "Cabin_E"
         },
         {
          "font": {
           "size": 8
          },
          "showarrow": false,
          "text": "0.01",
          "x": "Cabin_T",
          "y": "Cabin_E"
         },
         {
          "font": {
           "size": 8
          },
          "showarrow": false,
          "text": "0.05",
          "x": "Destination_PSO J318.5-22",
          "y": "Cabin_E"
         },
         {
          "font": {
           "size": 8
          },
          "showarrow": false,
          "text": "0.09",
          "x": "Destination_TRAPPIST-1e",
          "y": "Cabin_E"
         },
         {
          "font": {
           "size": 8
          },
          "showarrow": false,
          "text": "0.22",
          "x": "CryoSleep",
          "y": "Cabin_F"
         },
         {
          "font": {
           "size": 8
          },
          "showarrow": false,
          "text": "0.02",
          "x": "Age",
          "y": "Cabin_F"
         },
         {
          "font": {
           "size": 8
          },
          "showarrow": false,
          "text": "0.05",
          "x": "VIP",
          "y": "Cabin_F"
         },
         {
          "font": {
           "size": 8
          },
          "showarrow": false,
          "text": "0.09",
          "x": "RoomService",
          "y": "Cabin_F"
         },
         {
          "font": {
           "size": 8
          },
          "showarrow": false,
          "text": "0.14",
          "x": "FoodCourt",
          "y": "Cabin_F"
         },
         {
          "font": {
           "size": 8
          },
          "showarrow": false,
          "text": "0.07",
          "x": "ShoppingMall",
          "y": "Cabin_F"
         },
         {
          "font": {
           "size": 8
          },
          "showarrow": false,
          "text": "0.09",
          "x": "Spa",
          "y": "Cabin_F"
         },
         {
          "font": {
           "size": 8
          },
          "showarrow": false,
          "text": "0.10",
          "x": "VRDeck",
          "y": "Cabin_F"
         },
         {
          "font": {
           "size": 8
          },
          "showarrow": false,
          "text": "0.09",
          "x": "Transported",
          "y": "Cabin_F"
         },
         {
          "font": {
           "size": 8
          },
          "showarrow": false,
          "text": "0.41",
          "x": "HomePlanet_Europa",
          "y": "Cabin_F"
         },
         {
          "font": {
           "size": 8
          },
          "showarrow": false,
          "text": "0.34",
          "x": "HomePlanet_Mars",
          "y": "Cabin_F"
         },
         {
          "font": {
           "size": 8
          },
          "showarrow": false,
          "text": "0.22",
          "x": "Cabin_B",
          "y": "Cabin_F"
         },
         {
          "font": {
           "size": 8
          },
          "showarrow": false,
          "text": "0.22",
          "x": "Cabin_C",
          "y": "Cabin_F"
         },
         {
          "font": {
           "size": 8
          },
          "showarrow": false,
          "text": "0.17",
          "x": "Cabin_D",
          "y": "Cabin_F"
         },
         {
          "font": {
           "size": 8
          },
          "showarrow": false,
          "text": "0.24",
          "x": "Cabin_E",
          "y": "Cabin_F"
         },
         {
          "font": {
           "size": 8
          },
          "showarrow": false,
          "text": "1.00",
          "x": "Cabin_F",
          "y": "Cabin_F"
         },
         {
          "font": {
           "size": 8
          },
          "showarrow": false,
          "text": "0.46",
          "x": "Cabin_G",
          "y": "Cabin_F"
         },
         {
          "font": {
           "size": 8
          },
          "showarrow": false,
          "text": "0.01",
          "x": "Cabin_T",
          "y": "Cabin_F"
         },
         {
          "font": {
           "size": 8
          },
          "showarrow": false,
          "text": "0.02",
          "x": "Destination_PSO J318.5-22",
          "y": "Cabin_F"
         },
         {
          "font": {
           "size": 8
          },
          "showarrow": false,
          "text": "0.10",
          "x": "Destination_TRAPPIST-1e",
          "y": "Cabin_F"
         },
         {
          "font": {
           "size": 8
          },
          "showarrow": false,
          "text": "0.25",
          "x": "CryoSleep",
          "y": "Cabin_G"
         },
         {
          "font": {
           "size": 8
          },
          "showarrow": false,
          "text": "0.22",
          "x": "Age",
          "y": "Cabin_G"
         },
         {
          "font": {
           "size": 8
          },
          "showarrow": false,
          "text": "0.06",
          "x": "VIP",
          "y": "Cabin_G"
         },
         {
          "font": {
           "size": 8
          },
          "showarrow": false,
          "text": "0.15",
          "x": "RoomService",
          "y": "Cabin_G"
         },
         {
          "font": {
           "size": 8
          },
          "showarrow": false,
          "text": "0.16",
          "x": "FoodCourt",
          "y": "Cabin_G"
         },
         {
          "font": {
           "size": 8
          },
          "showarrow": false,
          "text": "0.11",
          "x": "ShoppingMall",
          "y": "Cabin_G"
         },
         {
          "font": {
           "size": 8
          },
          "showarrow": false,
          "text": "0.13",
          "x": "Spa",
          "y": "Cabin_G"
         },
         {
          "font": {
           "size": 8
          },
          "showarrow": false,
          "text": "0.13",
          "x": "VRDeck",
          "y": "Cabin_G"
         },
         {
          "font": {
           "size": 8
          },
          "showarrow": false,
          "text": "0.02",
          "x": "Transported",
          "y": "Cabin_G"
         },
         {
          "font": {
           "size": 8
          },
          "showarrow": false,
          "text": "0.38",
          "x": "HomePlanet_Europa",
          "y": "Cabin_G"
         },
         {
          "font": {
           "size": 8
          },
          "showarrow": false,
          "text": "0.33",
          "x": "HomePlanet_Mars",
          "y": "Cabin_G"
         },
         {
          "font": {
           "size": 8
          },
          "showarrow": false,
          "text": "0.21",
          "x": "Cabin_B",
          "y": "Cabin_G"
         },
         {
          "font": {
           "size": 8
          },
          "showarrow": false,
          "text": "0.20",
          "x": "Cabin_C",
          "y": "Cabin_G"
         },
         {
          "font": {
           "size": 8
          },
          "showarrow": false,
          "text": "0.16",
          "x": "Cabin_D",
          "y": "Cabin_G"
         },
         {
          "font": {
           "size": 8
          },
          "showarrow": false,
          "text": "0.22",
          "x": "Cabin_E",
          "y": "Cabin_G"
         },
         {
          "font": {
           "size": 8
          },
          "showarrow": false,
          "text": "0.46",
          "x": "Cabin_F",
          "y": "Cabin_G"
         },
         {
          "font": {
           "size": 8
          },
          "showarrow": false,
          "text": "1.00",
          "x": "Cabin_G",
          "y": "Cabin_G"
         },
         {
          "font": {
           "size": 8
          },
          "showarrow": false,
          "text": "0.01",
          "x": "Cabin_T",
          "y": "Cabin_G"
         },
         {
          "font": {
           "size": 8
          },
          "showarrow": false,
          "text": "0.21",
          "x": "Destination_PSO J318.5-22",
          "y": "Cabin_G"
         },
         {
          "font": {
           "size": 8
          },
          "showarrow": false,
          "text": "0.04",
          "x": "Destination_TRAPPIST-1e",
          "y": "Cabin_G"
         },
         {
          "font": {
           "size": 8
          },
          "showarrow": false,
          "text": "0.02",
          "x": "CryoSleep",
          "y": "Cabin_T"
         },
         {
          "font": {
           "size": 8
          },
          "showarrow": false,
          "text": "0.01",
          "x": "Age",
          "y": "Cabin_T"
         },
         {
          "font": {
           "size": 8
          },
          "showarrow": false,
          "text": "0.00",
          "x": "VIP",
          "y": "Cabin_T"
         },
         {
          "font": {
           "size": 8
          },
          "showarrow": false,
          "text": "0.01",
          "x": "RoomService",
          "y": "Cabin_T"
         },
         {
          "font": {
           "size": 8
          },
          "showarrow": false,
          "text": "0.01",
          "x": "FoodCourt",
          "y": "Cabin_T"
         },
         {
          "font": {
           "size": 8
          },
          "showarrow": false,
          "text": "0.01",
          "x": "ShoppingMall",
          "y": "Cabin_T"
         },
         {
          "font": {
           "size": 8
          },
          "showarrow": false,
          "text": "0.06",
          "x": "Spa",
          "y": "Cabin_T"
         },
         {
          "font": {
           "size": 8
          },
          "showarrow": false,
          "text": "0.01",
          "x": "VRDeck",
          "y": "Cabin_T"
         },
         {
          "font": {
           "size": 8
          },
          "showarrow": false,
          "text": "0.01",
          "x": "Transported",
          "y": "Cabin_T"
         },
         {
          "font": {
           "size": 8
          },
          "showarrow": false,
          "text": "0.04",
          "x": "HomePlanet_Europa",
          "y": "Cabin_T"
         },
         {
          "font": {
           "size": 8
          },
          "showarrow": false,
          "text": "0.01",
          "x": "HomePlanet_Mars",
          "y": "Cabin_T"
         },
         {
          "font": {
           "size": 8
          },
          "showarrow": false,
          "text": "0.01",
          "x": "Cabin_B",
          "y": "Cabin_T"
         },
         {
          "font": {
           "size": 8
          },
          "showarrow": false,
          "text": "0.01",
          "x": "Cabin_C",
          "y": "Cabin_T"
         },
         {
          "font": {
           "size": 8
          },
          "showarrow": false,
          "text": "0.00",
          "x": "Cabin_D",
          "y": "Cabin_T"
         },
         {
          "font": {
           "size": 8
          },
          "showarrow": false,
          "text": "0.01",
          "x": "Cabin_E",
          "y": "Cabin_T"
         },
         {
          "font": {
           "size": 8
          },
          "showarrow": false,
          "text": "0.01",
          "x": "Cabin_F",
          "y": "Cabin_T"
         },
         {
          "font": {
           "size": 8
          },
          "showarrow": false,
          "text": "0.01",
          "x": "Cabin_G",
          "y": "Cabin_T"
         },
         {
          "font": {
           "size": 8
          },
          "showarrow": false,
          "text": "1.00",
          "x": "Cabin_T",
          "y": "Cabin_T"
         },
         {
          "font": {
           "size": 8
          },
          "showarrow": false,
          "text": "0.01",
          "x": "Destination_PSO J318.5-22",
          "y": "Cabin_T"
         },
         {
          "font": {
           "size": 8
          },
          "showarrow": false,
          "text": "0.01",
          "x": "Destination_TRAPPIST-1e",
          "y": "Cabin_T"
         },
         {
          "font": {
           "size": 8
          },
          "showarrow": false,
          "text": "0.09",
          "x": "CryoSleep",
          "y": "Destination_PSO J318.5-22"
         },
         {
          "font": {
           "size": 8
          },
          "showarrow": false,
          "text": "0.02",
          "x": "Age",
          "y": "Destination_PSO J318.5-22"
         },
         {
          "font": {
           "size": 8
          },
          "showarrow": false,
          "text": "0.00",
          "x": "VIP",
          "y": "Destination_PSO J318.5-22"
         },
         {
          "font": {
           "size": 8
          },
          "showarrow": false,
          "text": "0.06",
          "x": "RoomService",
          "y": "Destination_PSO J318.5-22"
         },
         {
          "font": {
           "size": 8
          },
          "showarrow": false,
          "text": "0.07",
          "x": "FoodCourt",
          "y": "Destination_PSO J318.5-22"
         },
         {
          "font": {
           "size": 8
          },
          "showarrow": false,
          "text": "0.03",
          "x": "ShoppingMall",
          "y": "Destination_PSO J318.5-22"
         },
         {
          "font": {
           "size": 8
          },
          "showarrow": false,
          "text": "0.06",
          "x": "Spa",
          "y": "Destination_PSO J318.5-22"
         },
         {
          "font": {
           "size": 8
          },
          "showarrow": false,
          "text": "0.05",
          "x": "VRDeck",
          "y": "Destination_PSO J318.5-22"
         },
         {
          "font": {
           "size": 8
          },
          "showarrow": false,
          "text": "0.00",
          "x": "Transported",
          "y": "Destination_PSO J318.5-22"
         },
         {
          "font": {
           "size": 8
          },
          "showarrow": false,
          "text": "0.17",
          "x": "HomePlanet_Europa",
          "y": "Destination_PSO J318.5-22"
         },
         {
          "font": {
           "size": 8
          },
          "showarrow": false,
          "text": "0.12",
          "x": "HomePlanet_Mars",
          "y": "Destination_PSO J318.5-22"
         },
         {
          "font": {
           "size": 8
          },
          "showarrow": false,
          "text": "0.10",
          "x": "Cabin_B",
          "y": "Destination_PSO J318.5-22"
         },
         {
          "font": {
           "size": 8
          },
          "showarrow": false,
          "text": "0.08",
          "x": "Cabin_C",
          "y": "Destination_PSO J318.5-22"
         },
         {
          "font": {
           "size": 8
          },
          "showarrow": false,
          "text": "0.05",
          "x": "Cabin_D",
          "y": "Destination_PSO J318.5-22"
         },
         {
          "font": {
           "size": 8
          },
          "showarrow": false,
          "text": "0.05",
          "x": "Cabin_E",
          "y": "Destination_PSO J318.5-22"
         },
         {
          "font": {
           "size": 8
          },
          "showarrow": false,
          "text": "0.02",
          "x": "Cabin_F",
          "y": "Destination_PSO J318.5-22"
         },
         {
          "font": {
           "size": 8
          },
          "showarrow": false,
          "text": "0.21",
          "x": "Cabin_G",
          "y": "Destination_PSO J318.5-22"
         },
         {
          "font": {
           "size": 8
          },
          "showarrow": false,
          "text": "0.01",
          "x": "Cabin_T",
          "y": "Destination_PSO J318.5-22"
         },
         {
          "font": {
           "size": 8
          },
          "showarrow": false,
          "text": "1.00",
          "x": "Destination_PSO J318.5-22",
          "y": "Destination_PSO J318.5-22"
         },
         {
          "font": {
           "size": 8
          },
          "showarrow": false,
          "text": "0.48",
          "x": "Destination_TRAPPIST-1e",
          "y": "Destination_PSO J318.5-22"
         },
         {
          "font": {
           "size": 8
          },
          "showarrow": false,
          "text": "0.11",
          "x": "CryoSleep",
          "y": "Destination_TRAPPIST-1e"
         },
         {
          "font": {
           "size": 8
          },
          "showarrow": false,
          "text": "0.00",
          "x": "Age",
          "y": "Destination_TRAPPIST-1e"
         },
         {
          "font": {
           "size": 8
          },
          "showarrow": false,
          "text": "0.03",
          "x": "VIP",
          "y": "Destination_TRAPPIST-1e"
         },
         {
          "font": {
           "size": 8
          },
          "showarrow": false,
          "text": "0.06",
          "x": "RoomService",
          "y": "Destination_TRAPPIST-1e"
         },
         {
          "font": {
           "size": 8
          },
          "showarrow": false,
          "text": "0.08",
          "x": "FoodCourt",
          "y": "Destination_TRAPPIST-1e"
         },
         {
          "font": {
           "size": 8
          },
          "showarrow": false,
          "text": "0.03",
          "x": "ShoppingMall",
          "y": "Destination_TRAPPIST-1e"
         },
         {
          "font": {
           "size": 8
          },
          "showarrow": false,
          "text": "0.04",
          "x": "Spa",
          "y": "Destination_TRAPPIST-1e"
         },
         {
          "font": {
           "size": 8
          },
          "showarrow": false,
          "text": "0.05",
          "x": "VRDeck",
          "y": "Destination_TRAPPIST-1e"
         },
         {
          "font": {
           "size": 8
          },
          "showarrow": false,
          "text": "0.11",
          "x": "Transported",
          "y": "Destination_TRAPPIST-1e"
         },
         {
          "font": {
           "size": 8
          },
          "showarrow": false,
          "text": "0.15",
          "x": "HomePlanet_Europa",
          "y": "Destination_TRAPPIST-1e"
         },
         {
          "font": {
           "size": 8
          },
          "showarrow": false,
          "text": "0.18",
          "x": "HomePlanet_Mars",
          "y": "Destination_TRAPPIST-1e"
         },
         {
          "font": {
           "size": 8
          },
          "showarrow": false,
          "text": "0.10",
          "x": "Cabin_B",
          "y": "Destination_TRAPPIST-1e"
         },
         {
          "font": {
           "size": 8
          },
          "showarrow": false,
          "text": "0.10",
          "x": "Cabin_C",
          "y": "Destination_TRAPPIST-1e"
         },
         {
          "font": {
           "size": 8
          },
          "showarrow": false,
          "text": "0.02",
          "x": "Cabin_D",
          "y": "Destination_TRAPPIST-1e"
         },
         {
          "font": {
           "size": 8
          },
          "showarrow": false,
          "text": "0.09",
          "x": "Cabin_E",
          "y": "Destination_TRAPPIST-1e"
         },
         {
          "font": {
           "size": 8
          },
          "showarrow": false,
          "text": "0.10",
          "x": "Cabin_F",
          "y": "Destination_TRAPPIST-1e"
         },
         {
          "font": {
           "size": 8
          },
          "showarrow": false,
          "text": "0.04",
          "x": "Cabin_G",
          "y": "Destination_TRAPPIST-1e"
         },
         {
          "font": {
           "size": 8
          },
          "showarrow": false,
          "text": "0.01",
          "x": "Cabin_T",
          "y": "Destination_TRAPPIST-1e"
         },
         {
          "font": {
           "size": 8
          },
          "showarrow": false,
          "text": "0.48",
          "x": "Destination_PSO J318.5-22",
          "y": "Destination_TRAPPIST-1e"
         },
         {
          "font": {
           "size": 8
          },
          "showarrow": false,
          "text": "1.00",
          "x": "Destination_TRAPPIST-1e",
          "y": "Destination_TRAPPIST-1e"
         }
        ],
        "coloraxis": {
         "cmax": 1,
         "cmin": -1,
         "colorscale": [
          [
           0,
           "rgb(5,48,97)"
          ],
          [
           0.1,
           "rgb(33,102,172)"
          ],
          [
           0.2,
           "rgb(67,147,195)"
          ],
          [
           0.3,
           "rgb(146,197,222)"
          ],
          [
           0.4,
           "rgb(209,229,240)"
          ],
          [
           0.5,
           "rgb(247,247,247)"
          ],
          [
           0.6,
           "rgb(253,219,199)"
          ],
          [
           0.7,
           "rgb(244,165,130)"
          ],
          [
           0.8,
           "rgb(214,96,77)"
          ],
          [
           0.9,
           "rgb(178,24,43)"
          ],
          [
           1,
           "rgb(103,0,31)"
          ]
         ]
        },
        "height": 700,
        "template": {
         "data": {
          "bar": [
           {
            "error_x": {
             "color": "#2a3f5f"
            },
            "error_y": {
             "color": "#2a3f5f"
            },
            "marker": {
             "line": {
              "color": "#E5ECF6",
              "width": 0.5
             },
             "pattern": {
              "fillmode": "overlay",
              "size": 10,
              "solidity": 0.2
             }
            },
            "type": "bar"
           }
          ],
          "barpolar": [
           {
            "marker": {
             "line": {
              "color": "#E5ECF6",
              "width": 0.5
             },
             "pattern": {
              "fillmode": "overlay",
              "size": 10,
              "solidity": 0.2
             }
            },
            "type": "barpolar"
           }
          ],
          "carpet": [
           {
            "aaxis": {
             "endlinecolor": "#2a3f5f",
             "gridcolor": "white",
             "linecolor": "white",
             "minorgridcolor": "white",
             "startlinecolor": "#2a3f5f"
            },
            "baxis": {
             "endlinecolor": "#2a3f5f",
             "gridcolor": "white",
             "linecolor": "white",
             "minorgridcolor": "white",
             "startlinecolor": "#2a3f5f"
            },
            "type": "carpet"
           }
          ],
          "choropleth": [
           {
            "colorbar": {
             "outlinewidth": 0,
             "ticks": ""
            },
            "type": "choropleth"
           }
          ],
          "contour": [
           {
            "colorbar": {
             "outlinewidth": 0,
             "ticks": ""
            },
            "colorscale": [
             [
              0,
              "#0d0887"
             ],
             [
              0.1111111111111111,
              "#46039f"
             ],
             [
              0.2222222222222222,
              "#7201a8"
             ],
             [
              0.3333333333333333,
              "#9c179e"
             ],
             [
              0.4444444444444444,
              "#bd3786"
             ],
             [
              0.5555555555555556,
              "#d8576b"
             ],
             [
              0.6666666666666666,
              "#ed7953"
             ],
             [
              0.7777777777777778,
              "#fb9f3a"
             ],
             [
              0.8888888888888888,
              "#fdca26"
             ],
             [
              1,
              "#f0f921"
             ]
            ],
            "type": "contour"
           }
          ],
          "contourcarpet": [
           {
            "colorbar": {
             "outlinewidth": 0,
             "ticks": ""
            },
            "type": "contourcarpet"
           }
          ],
          "heatmap": [
           {
            "colorbar": {
             "outlinewidth": 0,
             "ticks": ""
            },
            "colorscale": [
             [
              0,
              "#0d0887"
             ],
             [
              0.1111111111111111,
              "#46039f"
             ],
             [
              0.2222222222222222,
              "#7201a8"
             ],
             [
              0.3333333333333333,
              "#9c179e"
             ],
             [
              0.4444444444444444,
              "#bd3786"
             ],
             [
              0.5555555555555556,
              "#d8576b"
             ],
             [
              0.6666666666666666,
              "#ed7953"
             ],
             [
              0.7777777777777778,
              "#fb9f3a"
             ],
             [
              0.8888888888888888,
              "#fdca26"
             ],
             [
              1,
              "#f0f921"
             ]
            ],
            "type": "heatmap"
           }
          ],
          "heatmapgl": [
           {
            "colorbar": {
             "outlinewidth": 0,
             "ticks": ""
            },
            "colorscale": [
             [
              0,
              "#0d0887"
             ],
             [
              0.1111111111111111,
              "#46039f"
             ],
             [
              0.2222222222222222,
              "#7201a8"
             ],
             [
              0.3333333333333333,
              "#9c179e"
             ],
             [
              0.4444444444444444,
              "#bd3786"
             ],
             [
              0.5555555555555556,
              "#d8576b"
             ],
             [
              0.6666666666666666,
              "#ed7953"
             ],
             [
              0.7777777777777778,
              "#fb9f3a"
             ],
             [
              0.8888888888888888,
              "#fdca26"
             ],
             [
              1,
              "#f0f921"
             ]
            ],
            "type": "heatmapgl"
           }
          ],
          "histogram": [
           {
            "marker": {
             "pattern": {
              "fillmode": "overlay",
              "size": 10,
              "solidity": 0.2
             }
            },
            "type": "histogram"
           }
          ],
          "histogram2d": [
           {
            "colorbar": {
             "outlinewidth": 0,
             "ticks": ""
            },
            "colorscale": [
             [
              0,
              "#0d0887"
             ],
             [
              0.1111111111111111,
              "#46039f"
             ],
             [
              0.2222222222222222,
              "#7201a8"
             ],
             [
              0.3333333333333333,
              "#9c179e"
             ],
             [
              0.4444444444444444,
              "#bd3786"
             ],
             [
              0.5555555555555556,
              "#d8576b"
             ],
             [
              0.6666666666666666,
              "#ed7953"
             ],
             [
              0.7777777777777778,
              "#fb9f3a"
             ],
             [
              0.8888888888888888,
              "#fdca26"
             ],
             [
              1,
              "#f0f921"
             ]
            ],
            "type": "histogram2d"
           }
          ],
          "histogram2dcontour": [
           {
            "colorbar": {
             "outlinewidth": 0,
             "ticks": ""
            },
            "colorscale": [
             [
              0,
              "#0d0887"
             ],
             [
              0.1111111111111111,
              "#46039f"
             ],
             [
              0.2222222222222222,
              "#7201a8"
             ],
             [
              0.3333333333333333,
              "#9c179e"
             ],
             [
              0.4444444444444444,
              "#bd3786"
             ],
             [
              0.5555555555555556,
              "#d8576b"
             ],
             [
              0.6666666666666666,
              "#ed7953"
             ],
             [
              0.7777777777777778,
              "#fb9f3a"
             ],
             [
              0.8888888888888888,
              "#fdca26"
             ],
             [
              1,
              "#f0f921"
             ]
            ],
            "type": "histogram2dcontour"
           }
          ],
          "mesh3d": [
           {
            "colorbar": {
             "outlinewidth": 0,
             "ticks": ""
            },
            "type": "mesh3d"
           }
          ],
          "parcoords": [
           {
            "line": {
             "colorbar": {
              "outlinewidth": 0,
              "ticks": ""
             }
            },
            "type": "parcoords"
           }
          ],
          "pie": [
           {
            "automargin": true,
            "type": "pie"
           }
          ],
          "scatter": [
           {
            "fillpattern": {
             "fillmode": "overlay",
             "size": 10,
             "solidity": 0.2
            },
            "type": "scatter"
           }
          ],
          "scatter3d": [
           {
            "line": {
             "colorbar": {
              "outlinewidth": 0,
              "ticks": ""
             }
            },
            "marker": {
             "colorbar": {
              "outlinewidth": 0,
              "ticks": ""
             }
            },
            "type": "scatter3d"
           }
          ],
          "scattercarpet": [
           {
            "marker": {
             "colorbar": {
              "outlinewidth": 0,
              "ticks": ""
             }
            },
            "type": "scattercarpet"
           }
          ],
          "scattergeo": [
           {
            "marker": {
             "colorbar": {
              "outlinewidth": 0,
              "ticks": ""
             }
            },
            "type": "scattergeo"
           }
          ],
          "scattergl": [
           {
            "marker": {
             "colorbar": {
              "outlinewidth": 0,
              "ticks": ""
             }
            },
            "type": "scattergl"
           }
          ],
          "scattermapbox": [
           {
            "marker": {
             "colorbar": {
              "outlinewidth": 0,
              "ticks": ""
             }
            },
            "type": "scattermapbox"
           }
          ],
          "scatterpolar": [
           {
            "marker": {
             "colorbar": {
              "outlinewidth": 0,
              "ticks": ""
             }
            },
            "type": "scatterpolar"
           }
          ],
          "scatterpolargl": [
           {
            "marker": {
             "colorbar": {
              "outlinewidth": 0,
              "ticks": ""
             }
            },
            "type": "scatterpolargl"
           }
          ],
          "scatterternary": [
           {
            "marker": {
             "colorbar": {
              "outlinewidth": 0,
              "ticks": ""
             }
            },
            "type": "scatterternary"
           }
          ],
          "surface": [
           {
            "colorbar": {
             "outlinewidth": 0,
             "ticks": ""
            },
            "colorscale": [
             [
              0,
              "#0d0887"
             ],
             [
              0.1111111111111111,
              "#46039f"
             ],
             [
              0.2222222222222222,
              "#7201a8"
             ],
             [
              0.3333333333333333,
              "#9c179e"
             ],
             [
              0.4444444444444444,
              "#bd3786"
             ],
             [
              0.5555555555555556,
              "#d8576b"
             ],
             [
              0.6666666666666666,
              "#ed7953"
             ],
             [
              0.7777777777777778,
              "#fb9f3a"
             ],
             [
              0.8888888888888888,
              "#fdca26"
             ],
             [
              1,
              "#f0f921"
             ]
            ],
            "type": "surface"
           }
          ],
          "table": [
           {
            "cells": {
             "fill": {
              "color": "#EBF0F8"
             },
             "line": {
              "color": "white"
             }
            },
            "header": {
             "fill": {
              "color": "#C8D4E3"
             },
             "line": {
              "color": "white"
             }
            },
            "type": "table"
           }
          ]
         },
         "layout": {
          "annotationdefaults": {
           "arrowcolor": "#2a3f5f",
           "arrowhead": 0,
           "arrowwidth": 1
          },
          "autotypenumbers": "strict",
          "coloraxis": {
           "colorbar": {
            "outlinewidth": 0,
            "ticks": ""
           }
          },
          "colorscale": {
           "diverging": [
            [
             0,
             "#8e0152"
            ],
            [
             0.1,
             "#c51b7d"
            ],
            [
             0.2,
             "#de77ae"
            ],
            [
             0.3,
             "#f1b6da"
            ],
            [
             0.4,
             "#fde0ef"
            ],
            [
             0.5,
             "#f7f7f7"
            ],
            [
             0.6,
             "#e6f5d0"
            ],
            [
             0.7,
             "#b8e186"
            ],
            [
             0.8,
             "#7fbc41"
            ],
            [
             0.9,
             "#4d9221"
            ],
            [
             1,
             "#276419"
            ]
           ],
           "sequential": [
            [
             0,
             "#0d0887"
            ],
            [
             0.1111111111111111,
             "#46039f"
            ],
            [
             0.2222222222222222,
             "#7201a8"
            ],
            [
             0.3333333333333333,
             "#9c179e"
            ],
            [
             0.4444444444444444,
             "#bd3786"
            ],
            [
             0.5555555555555556,
             "#d8576b"
            ],
            [
             0.6666666666666666,
             "#ed7953"
            ],
            [
             0.7777777777777778,
             "#fb9f3a"
            ],
            [
             0.8888888888888888,
             "#fdca26"
            ],
            [
             1,
             "#f0f921"
            ]
           ],
           "sequentialminus": [
            [
             0,
             "#0d0887"
            ],
            [
             0.1111111111111111,
             "#46039f"
            ],
            [
             0.2222222222222222,
             "#7201a8"
            ],
            [
             0.3333333333333333,
             "#9c179e"
            ],
            [
             0.4444444444444444,
             "#bd3786"
            ],
            [
             0.5555555555555556,
             "#d8576b"
            ],
            [
             0.6666666666666666,
             "#ed7953"
            ],
            [
             0.7777777777777778,
             "#fb9f3a"
            ],
            [
             0.8888888888888888,
             "#fdca26"
            ],
            [
             1,
             "#f0f921"
            ]
           ]
          },
          "colorway": [
           "#636efa",
           "#EF553B",
           "#00cc96",
           "#ab63fa",
           "#FFA15A",
           "#19d3f3",
           "#FF6692",
           "#B6E880",
           "#FF97FF",
           "#FECB52"
          ],
          "font": {
           "color": "#2a3f5f"
          },
          "geo": {
           "bgcolor": "white",
           "lakecolor": "white",
           "landcolor": "#E5ECF6",
           "showlakes": true,
           "showland": true,
           "subunitcolor": "white"
          },
          "hoverlabel": {
           "align": "left"
          },
          "hovermode": "closest",
          "mapbox": {
           "style": "light"
          },
          "paper_bgcolor": "white",
          "plot_bgcolor": "#E5ECF6",
          "polar": {
           "angularaxis": {
            "gridcolor": "white",
            "linecolor": "white",
            "ticks": ""
           },
           "bgcolor": "#E5ECF6",
           "radialaxis": {
            "gridcolor": "white",
            "linecolor": "white",
            "ticks": ""
           }
          },
          "scene": {
           "xaxis": {
            "backgroundcolor": "#E5ECF6",
            "gridcolor": "white",
            "gridwidth": 2,
            "linecolor": "white",
            "showbackground": true,
            "ticks": "",
            "zerolinecolor": "white"
           },
           "yaxis": {
            "backgroundcolor": "#E5ECF6",
            "gridcolor": "white",
            "gridwidth": 2,
            "linecolor": "white",
            "showbackground": true,
            "ticks": "",
            "zerolinecolor": "white"
           },
           "zaxis": {
            "backgroundcolor": "#E5ECF6",
            "gridcolor": "white",
            "gridwidth": 2,
            "linecolor": "white",
            "showbackground": true,
            "ticks": "",
            "zerolinecolor": "white"
           }
          },
          "shapedefaults": {
           "line": {
            "color": "#2a3f5f"
           }
          },
          "ternary": {
           "aaxis": {
            "gridcolor": "white",
            "linecolor": "white",
            "ticks": ""
           },
           "baxis": {
            "gridcolor": "white",
            "linecolor": "white",
            "ticks": ""
           },
           "bgcolor": "#E5ECF6",
           "caxis": {
            "gridcolor": "white",
            "linecolor": "white",
            "ticks": ""
           }
          },
          "title": {
           "x": 0.05
          },
          "xaxis": {
           "automargin": true,
           "gridcolor": "white",
           "linecolor": "white",
           "ticks": "",
           "title": {
            "standoff": 15
           },
           "zerolinecolor": "white",
           "zerolinewidth": 2
          },
          "yaxis": {
           "automargin": true,
           "gridcolor": "white",
           "linecolor": "white",
           "ticks": "",
           "title": {
            "standoff": 15
           },
           "zerolinecolor": "white",
           "zerolinewidth": 2
          }
         }
        },
        "title": {
         "text": "Correlation Heatmap of Numerical Variables"
        },
        "width": 800,
        "xaxis": {
         "anchor": "y",
         "domain": [
          0,
          1
         ],
         "side": "top",
         "title": {
          "text": ""
         }
        },
        "yaxis": {
         "anchor": "x",
         "autorange": "reversed",
         "domain": [
          0,
          1
         ],
         "title": {
          "text": ""
         }
        }
       }
      }
     },
     "metadata": {},
     "output_type": "display_data"
    }
   ],
   "source": [
    "# feature selection\n",
    "# let's see if any variables are correlated. \n",
    "\n",
    "import plotly.express as px\n",
    "\n",
    "# Calculate the correlation matrix\n",
    "correlation_matrix = np.abs(spaceship.corr())\n",
    "\n",
    "# Create the heatmap using Plotly Express\n",
    "fig = px.imshow(correlation_matrix,\n",
    "                x=correlation_matrix.columns,\n",
    "                y=correlation_matrix.columns,\n",
    "                color_continuous_scale='RdBu_r',  # Red-Blue diverging color scale\n",
    "                zmin=-1,\n",
    "                zmax=1,\n",
    "                aspect=\"auto\",\n",
    "                title='Correlation Heatmap of Numerical Variables')\n",
    "\n",
    "# Update the layout for better readability\n",
    "fig.update_layout(\n",
    "    xaxis_title=\"\",\n",
    "    yaxis_title=\"\",\n",
    "    xaxis={'side': 'top'},  # Move x-axis labels to the top\n",
    "    width=800,\n",
    "    height=700\n",
    ")\n",
    "\n",
    "# Add correlation values as text annotations\n",
    "for i, row in enumerate(correlation_matrix.values):\n",
    "    for j, value in enumerate(row):\n",
    "        fig.add_annotation(\n",
    "            x=correlation_matrix.columns[j],\n",
    "            y=correlation_matrix.columns[i],\n",
    "            text=f\"{value:.2f}\",\n",
    "            showarrow=False,\n",
    "            font=dict(size=8)\n",
    "        )\n",
    "\n",
    "# Show the plot\n",
    "fig.show()\n",
    "\n",
    "\n",
    "# all the variables seem quite independent. "
   ]
  },
  {
   "cell_type": "markdown",
   "metadata": {},
   "source": [
    "**Perform Train Test Split**"
   ]
  },
  {
   "cell_type": "code",
   "execution_count": 70,
   "metadata": {},
   "outputs": [],
   "source": [
    "# train test split\n",
    "X = spaceship.drop('Transported', axis=1)\n",
    "y = spaceship['Transported']\n",
    "\n",
    "X_train, X_test, y_train, y_test = train_test_split(X, y, test_size=0.3, random_state=42)"
   ]
  },
  {
   "cell_type": "code",
   "execution_count": 71,
   "metadata": {},
   "outputs": [],
   "source": [
    "# normalise the data for continuous variables\n",
    "from sklearn.preprocessing import MinMaxScaler\n",
    "\n",
    "normalizer = MinMaxScaler()\n",
    "\n",
    "X_train_norm = normalizer.fit_transform(X_train)\n",
    "\n",
    "X_test_norm = normalizer.transform(X_test)"
   ]
  },
  {
   "cell_type": "markdown",
   "metadata": {},
   "source": [
    "**Model Selection** - now you will try to apply different ensemble methods in order to get a better model"
   ]
  },
  {
   "cell_type": "code",
   "execution_count": 82,
   "metadata": {},
   "outputs": [],
   "source": [
    "# apply bagging and pasting\n",
    "from sklearn.tree import DecisionTreeClassifier\n",
    "from sklearn.ensemble import BaggingClassifier, RandomForestClassifier, GradientBoostingClassifier, AdaBoostClassifier"
   ]
  },
  {
   "cell_type": "markdown",
   "metadata": {},
   "source": [
    "- Bagging and Pasting"
   ]
  },
  {
   "cell_type": "code",
   "execution_count": 74,
   "metadata": {},
   "outputs": [],
   "source": [
    "bagging_reg = BaggingClassifier(DecisionTreeClassifier(max_depth=20),\n",
    "                               n_estimators=100,\n",
    "                               max_samples = 1000)\n",
    "\n",
    "bagging_reg.fit(X_train_norm, y_train)\n",
    "\n",
    "from sklearn.metrics import r2_score, mean_absolute_error, mean_squared_error\n",
    "\n",
    "# evaluate the model\n",
    "pred = bagging_reg.predict(X_test_norm)\n",
    "\n"
   ]
  },
  {
   "cell_type": "code",
   "execution_count": 79,
   "metadata": {},
   "outputs": [
    {
     "name": "stdout",
     "output_type": "stream",
     "text": [
      "Accuracy: 0.7970946579194002\n",
      "F1 score: 0.798510935318753\n"
     ]
    }
   ],
   "source": [
    "#evaluate the model \n",
    "\n",
    "# Predict the labels of the test set\n",
    "pred = bagging_reg.predict(X_test_norm)\n",
    "\n",
    "# calculate the accuracy: \n",
    "print(\"Accuracy:\", bagging_reg.score(X_test_norm, y_test))\n",
    "\n",
    "\n",
    "from sklearn.metrics import f1_score\n",
    "\n",
    "# Compute the F1 score\n",
    "f1 = f1_score(y_test, pred)\n",
    "\n",
    "print(\"F1 score:\", f1)\n",
    "\n",
    "# the accuracy improved slightly (not much)"
   ]
  },
  {
   "cell_type": "markdown",
   "metadata": {},
   "source": [
    "- Random Forests"
   ]
  },
  {
   "cell_type": "code",
   "execution_count": 80,
   "metadata": {},
   "outputs": [
    {
     "name": "stdout",
     "output_type": "stream",
     "text": [
      "accuracy 0.7877225866916588\n",
      "f1 score 0.788020589611605\n"
     ]
    }
   ],
   "source": [
    "# initialise Random Forest Classifier\n",
    "\n",
    "forest = RandomForestClassifier(n_estimators=100,\n",
    "                             max_depth=20)\n",
    "forest.fit(X_train_norm, y_train)\n",
    "\n",
    "\n",
    "# evaluate the model\n",
    "pred = forest.predict(X_test_norm)\n",
    "\n",
    "print(\"accuracy\", forest.score(X_test_norm, y_test))\n",
    "print(\"f1 score\", f1_score(y_test, pred))"
   ]
  },
  {
   "cell_type": "markdown",
   "metadata": {},
   "source": [
    "- Gradient Boosting"
   ]
  },
  {
   "cell_type": "code",
   "execution_count": 81,
   "metadata": {},
   "outputs": [
    {
     "name": "stdout",
     "output_type": "stream",
     "text": [
      "accuracy 0.7460168697282099\n",
      "f1 score 0.7554151624548736\n"
     ]
    }
   ],
   "source": [
    "# initialise Gradient Boosting Classifier\n",
    "gb_reg = GradientBoostingClassifier(max_depth=20,\n",
    "                            n_estimators=100)\n",
    "gb_reg.fit(X_train_norm, y_train)\n",
    "\n",
    "\n",
    "# evaluate the model\n",
    "pred = gb_reg.predict(X_test_norm)\n",
    "\n",
    "print(\"accuracy\", gb_reg.score(X_test_norm, y_test))\n",
    "print(\"f1 score\", f1_score(y_test, pred))"
   ]
  },
  {
   "cell_type": "markdown",
   "metadata": {},
   "source": [
    "- Adaptive Boosting"
   ]
  },
  {
   "cell_type": "code",
   "execution_count": 83,
   "metadata": {},
   "outputs": [
    {
     "name": "stderr",
     "output_type": "stream",
     "text": [
      "/Users/almu/Code/.venv/lib/python3.12/site-packages/sklearn/ensemble/_weight_boosting.py:527: FutureWarning:\n",
      "\n",
      "The SAMME.R algorithm (the default) is deprecated and will be removed in 1.6. Use the SAMME algorithm to circumvent this warning.\n",
      "\n"
     ]
    },
    {
     "name": "stdout",
     "output_type": "stream",
     "text": [
      "accuracy 0.7938144329896907\n",
      "f1 score 0.8051372896368467\n"
     ]
    }
   ],
   "source": [
    "# initialise AdaBoost Classifier\n",
    "ada_reg = AdaBoostClassifier(n_estimators=100)\n",
    "ada_reg.fit(X_train_norm, y_train)\n",
    "\n",
    "\n",
    "# evaluate the model\n",
    "pred = ada_reg.predict(X_test_norm)\n",
    "\n",
    "print(\"accuracy\", ada_reg.score(X_test_norm, y_test))\n",
    "print(\"f1 score\", f1_score(y_test, pred))"
   ]
  },
  {
   "cell_type": "markdown",
   "metadata": {},
   "source": [
    "Which model is the best and why?"
   ]
  },
  {
   "cell_type": "code",
   "execution_count": null,
   "metadata": {},
   "outputs": [],
   "source": [
    "# the AdaBoost Classifier is the best."
   ]
  }
 ],
 "metadata": {
  "kernelspec": {
   "display_name": "Python 3",
   "language": "python",
   "name": "python3"
  },
  "language_info": {
   "codemirror_mode": {
    "name": "ipython",
    "version": 3
   },
   "file_extension": ".py",
   "mimetype": "text/x-python",
   "name": "python",
   "nbconvert_exporter": "python",
   "pygments_lexer": "ipython3",
   "version": "3.12.4"
  }
 },
 "nbformat": 4,
 "nbformat_minor": 2
}
