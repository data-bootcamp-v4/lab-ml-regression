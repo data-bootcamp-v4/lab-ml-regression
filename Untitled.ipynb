{
 "cells": [
  {
   "cell_type": "code",
   "execution_count": 2,
   "id": "ae7eba34-7bfc-4ccf-a724-6f4e76f5c705",
   "metadata": {},
   "outputs": [],
   "source": [
    "import numpy as np\n",
    "import pandas as pd"
   ]
  },
  {
   "cell_type": "code",
   "execution_count": null,
   "id": "e975a50f-e2ce-4bd1-8cda-374c2413d7b2",
   "metadata": {},
   "outputs": [],
   "source": []
  },
  {
   "cell_type": "code",
   "execution_count": null,
   "id": "f69bcd82-4f3a-43d0-b830-168e5d4070b5",
   "metadata": {},
   "outputs": [],
   "source": [
    "def get_breed_data():\n",
    "    # Initialize an empty list to store breed data\n",
    "    breed_list = []\n",
    "\n",
    "    # Fetch the list of breeds from the API\n",
    "    url = \"https://api.thedogapi.com/v1/breeds\"\n",
    "    headers = {\"x-api-key\": \"live_bbCrlls8Jw8I19PRwoKOY8c78YaFNHN60TaHSumPkzBWitHe3R3QTqIVteDxLAWs\"}\n",
    "    \n",
    "    # Make the request to get all breeds\n",
    "    response = requests.get(url, headers=headers)\n",
    "    \n",
    "    # Check if the request was successful\n",
    "    if response.status_code == 200:\n",
    "        breeds = response.json()  # Get the list of all breeds\n",
    "\n",
    "        # Loop through the breeds and extract relevant data\n",
    "        for breed in breeds:\n",
    "            breed_data = {\n",
    "                \"Breed Name\": breed.get(\"name\").lower(),\n",
    "                \"Life Span\": breed.get(\"life_span\"),\n",
    "                \"Temperament\": breed.get(\"temperament\"),\n",
    "                \"Breed Group\": breed.get(\"breed_group\"),\n",
    "                \"Weight\": breed.get(\"weight\", {}).get(\"metric\"),\n",
    "                \"Height\": breed.get(\"height\", {}).get(\"metric\"),\n",
    "                \"Bred For\": breed.get('bred_for'),\n",
    "                \"Origin\": breed.get(\"origin\")\n",
    "            }\n",
    "            breed_list.append(breed_data)\n",
    "\n",
    "        # Convert the list of dictionaries into a DataFrame\n",
    "        df_breeds = pd.DataFrame(breed_list)\n",
    "        df_breeds.columns = [col.replace(\" \",\"_\").lower() for col in df_breeds.columns]\n",
    "\n",
    "\n",
    "\n",
    "        df_breeds.columns = [col.replace(\"_\",\"\").lower() for col in df_breeds.columns]\n",
    "        return df_breeds\n",
    "\n",
    "\n",
    "# Call the function to get breed list\n",
    "df_breeds = get_breed_data()\n",
    "\n",
    "df_breeds\n"
   ]
  }
 ],
 "metadata": {
  "kernelspec": {
   "display_name": "Python 3 (ipykernel)",
   "language": "python",
   "name": "python3"
  },
  "language_info": {
   "codemirror_mode": {
    "name": "ipython",
    "version": 3
   },
   "file_extension": ".py",
   "mimetype": "text/x-python",
   "name": "python",
   "nbconvert_exporter": "python",
   "pygments_lexer": "ipython3",
   "version": "3.12.4"
  }
 },
 "nbformat": 4,
 "nbformat_minor": 5
}
