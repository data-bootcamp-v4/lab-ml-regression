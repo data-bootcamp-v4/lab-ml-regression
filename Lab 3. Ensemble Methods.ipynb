{
 "cells": [
  {
   "cell_type": "code",
   "execution_count": 83,
   "id": "01790326-6aa3-4212-9fca-62cf00237f44",
   "metadata": {},
   "outputs": [],
   "source": [
    "import pandas as pd\n",
    "import numpy as np\n",
    "from sklearn.model_selection import train_test_split\n",
    "from sklearn.preprocessing import StandardScaler\n",
    "from sklearn.ensemble import RandomForestClassifier\n",
    "from sklearn.feature_selection import RFE\n",
    "from sklearn.ensemble import BaggingClassifier\n",
    "from sklearn.tree import DecisionTreeClassifier\n",
    "from sklearn.metrics import accuracy_score, confusion_matrix, classification_report\n",
    "from sklearn.ensemble import GradientBoostingClassifier\n",
    "from sklearn.ensemble import AdaBoostClassifier\n"
   ]
  },
  {
   "cell_type": "code",
   "execution_count": 72,
   "id": "d53c00b6-b9b0-4f9c-ab90-cfa9a8bc9561",
   "metadata": {},
   "outputs": [
    {
     "data": {
      "text/html": [
       "<div>\n",
       "<style scoped>\n",
       "    .dataframe tbody tr th:only-of-type {\n",
       "        vertical-align: middle;\n",
       "    }\n",
       "\n",
       "    .dataframe tbody tr th {\n",
       "        vertical-align: top;\n",
       "    }\n",
       "\n",
       "    .dataframe thead th {\n",
       "        text-align: right;\n",
       "    }\n",
       "</style>\n",
       "<table border=\"1\" class=\"dataframe\">\n",
       "  <thead>\n",
       "    <tr style=\"text-align: right;\">\n",
       "      <th></th>\n",
       "      <th>PassengerId</th>\n",
       "      <th>HomePlanet</th>\n",
       "      <th>CryoSleep</th>\n",
       "      <th>Cabin</th>\n",
       "      <th>Destination</th>\n",
       "      <th>Age</th>\n",
       "      <th>VIP</th>\n",
       "      <th>RoomService</th>\n",
       "      <th>FoodCourt</th>\n",
       "      <th>ShoppingMall</th>\n",
       "      <th>Spa</th>\n",
       "      <th>VRDeck</th>\n",
       "      <th>Name</th>\n",
       "      <th>Transported</th>\n",
       "    </tr>\n",
       "  </thead>\n",
       "  <tbody>\n",
       "    <tr>\n",
       "      <th>0</th>\n",
       "      <td>0001_01</td>\n",
       "      <td>Europa</td>\n",
       "      <td>False</td>\n",
       "      <td>B/0/P</td>\n",
       "      <td>TRAPPIST-1e</td>\n",
       "      <td>39.0</td>\n",
       "      <td>False</td>\n",
       "      <td>0.0</td>\n",
       "      <td>0.0</td>\n",
       "      <td>0.0</td>\n",
       "      <td>0.0</td>\n",
       "      <td>0.0</td>\n",
       "      <td>Maham Ofracculy</td>\n",
       "      <td>False</td>\n",
       "    </tr>\n",
       "    <tr>\n",
       "      <th>1</th>\n",
       "      <td>0002_01</td>\n",
       "      <td>Earth</td>\n",
       "      <td>False</td>\n",
       "      <td>F/0/S</td>\n",
       "      <td>TRAPPIST-1e</td>\n",
       "      <td>24.0</td>\n",
       "      <td>False</td>\n",
       "      <td>109.0</td>\n",
       "      <td>9.0</td>\n",
       "      <td>25.0</td>\n",
       "      <td>549.0</td>\n",
       "      <td>44.0</td>\n",
       "      <td>Juanna Vines</td>\n",
       "      <td>True</td>\n",
       "    </tr>\n",
       "    <tr>\n",
       "      <th>2</th>\n",
       "      <td>0003_01</td>\n",
       "      <td>Europa</td>\n",
       "      <td>False</td>\n",
       "      <td>A/0/S</td>\n",
       "      <td>TRAPPIST-1e</td>\n",
       "      <td>58.0</td>\n",
       "      <td>True</td>\n",
       "      <td>43.0</td>\n",
       "      <td>3576.0</td>\n",
       "      <td>0.0</td>\n",
       "      <td>6715.0</td>\n",
       "      <td>49.0</td>\n",
       "      <td>Altark Susent</td>\n",
       "      <td>False</td>\n",
       "    </tr>\n",
       "    <tr>\n",
       "      <th>3</th>\n",
       "      <td>0003_02</td>\n",
       "      <td>Europa</td>\n",
       "      <td>False</td>\n",
       "      <td>A/0/S</td>\n",
       "      <td>TRAPPIST-1e</td>\n",
       "      <td>33.0</td>\n",
       "      <td>False</td>\n",
       "      <td>0.0</td>\n",
       "      <td>1283.0</td>\n",
       "      <td>371.0</td>\n",
       "      <td>3329.0</td>\n",
       "      <td>193.0</td>\n",
       "      <td>Solam Susent</td>\n",
       "      <td>False</td>\n",
       "    </tr>\n",
       "    <tr>\n",
       "      <th>4</th>\n",
       "      <td>0004_01</td>\n",
       "      <td>Earth</td>\n",
       "      <td>False</td>\n",
       "      <td>F/1/S</td>\n",
       "      <td>TRAPPIST-1e</td>\n",
       "      <td>16.0</td>\n",
       "      <td>False</td>\n",
       "      <td>303.0</td>\n",
       "      <td>70.0</td>\n",
       "      <td>151.0</td>\n",
       "      <td>565.0</td>\n",
       "      <td>2.0</td>\n",
       "      <td>Willy Santantines</td>\n",
       "      <td>True</td>\n",
       "    </tr>\n",
       "  </tbody>\n",
       "</table>\n",
       "</div>"
      ],
      "text/plain": [
       "  PassengerId HomePlanet CryoSleep  Cabin  Destination   Age    VIP  \\\n",
       "0     0001_01     Europa     False  B/0/P  TRAPPIST-1e  39.0  False   \n",
       "1     0002_01      Earth     False  F/0/S  TRAPPIST-1e  24.0  False   \n",
       "2     0003_01     Europa     False  A/0/S  TRAPPIST-1e  58.0   True   \n",
       "3     0003_02     Europa     False  A/0/S  TRAPPIST-1e  33.0  False   \n",
       "4     0004_01      Earth     False  F/1/S  TRAPPIST-1e  16.0  False   \n",
       "\n",
       "   RoomService  FoodCourt  ShoppingMall     Spa  VRDeck               Name  \\\n",
       "0          0.0        0.0           0.0     0.0     0.0    Maham Ofracculy   \n",
       "1        109.0        9.0          25.0   549.0    44.0       Juanna Vines   \n",
       "2         43.0     3576.0           0.0  6715.0    49.0      Altark Susent   \n",
       "3          0.0     1283.0         371.0  3329.0   193.0       Solam Susent   \n",
       "4        303.0       70.0         151.0   565.0     2.0  Willy Santantines   \n",
       "\n",
       "   Transported  \n",
       "0        False  \n",
       "1         True  \n",
       "2        False  \n",
       "3        False  \n",
       "4         True  "
      ]
     },
     "execution_count": 72,
     "metadata": {},
     "output_type": "execute_result"
    }
   ],
   "source": [
    "spaceship = pd.read_csv(\"https://raw.githubusercontent.com/data-bootcamp-v4/data/main/spaceship_titanic.csv\")\n",
    "spaceship.head()"
   ]
  },
  {
   "cell_type": "code",
   "execution_count": 73,
   "id": "266a27e9-f97b-444d-bae8-8911717376a0",
   "metadata": {},
   "outputs": [],
   "source": [
    "spaceship = spaceship.dropna()"
   ]
  },
  {
   "cell_type": "markdown",
   "id": "fd8373ed-f86d-4bbf-8b58-c9bd2c60188d",
   "metadata": {},
   "source": [
    "Now perform the same as before:\n",
    "\n",
    "- Feature Scaling\n",
    "- Feature Selection"
   ]
  },
  {
   "cell_type": "code",
   "execution_count": 74,
   "id": "58ae27bb-c659-45cb-87f9-cdf6e5d8addd",
   "metadata": {},
   "outputs": [],
   "source": [
    "#Feature Scaling\n",
    "features = [\"Age\", \"RoomService\", \"FoodCourt\", \"ShoppingMall\", \"Spa\", \"VRDeck\"]\n",
    "X = spaceship[features]\n",
    "\n",
    "scaler = StandardScaler()\n",
    "X_scaled = scaler.fit_transform(X)\n",
    "\n",
    "X_scaled_df = pd.DataFrame(X_scaled, columns=features)"
   ]
  },
  {
   "cell_type": "code",
   "execution_count": 75,
   "id": "3c0145dd-030c-4fd1-9ef9-8de3c5385d61",
   "metadata": {},
   "outputs": [
    {
     "name": "stdout",
     "output_type": "stream",
     "text": [
      "Selected Features: ['RoomService', 'FoodCourt', 'ShoppingMall', 'Spa', 'VRDeck']\n"
     ]
    }
   ],
   "source": [
    "#Feature Selection\n",
    "target =  spaceship[\"Transported\"]\n",
    "\n",
    "forest = RFE(estimator=RandomForestClassifier(n_estimators=100, random_state=42), n_features_to_select=5)\n",
    "forest.fit(X_scaled, target)\n",
    "\n",
    "selected_features = [features[i] for i in range(len(features)) if forest.support_[i]]\n",
    "X_selected = X_scaled_df[selected_features]\n",
    "print(\"Selected Features:\", selected_features)"
   ]
  },
  {
   "cell_type": "markdown",
   "id": "4c2f9fbf-8bfe-4dfe-a50f-245f3cd4de24",
   "metadata": {},
   "source": [
    "- Perform train test Split"
   ]
  },
  {
   "cell_type": "code",
   "execution_count": 76,
   "id": "d660ab85-64a4-4080-bd74-467598aeb9e9",
   "metadata": {},
   "outputs": [],
   "source": [
    "X_train, X_test, y_train, y_test = train_test_split(X, target, test_size=0.2, random_state=42)"
   ]
  },
  {
   "cell_type": "markdown",
   "id": "fee04457-ebfe-47e6-a88a-08cf60d46bb4",
   "metadata": {},
   "source": [
    "- Bagging and Pasting"
   ]
  },
  {
   "cell_type": "code",
   "execution_count": 77,
   "id": "d5938445-8a09-4b37-9b38-9cc668e84664",
   "metadata": {},
   "outputs": [
    {
     "name": "stdout",
     "output_type": "stream",
     "text": [
      "Bagging Accuracy: 0.7957639939485628\n"
     ]
    }
   ],
   "source": [
    "#Bagging\n",
    "bagging_clf = BaggingClassifier(DecisionTreeClassifier(max_depth=20), n_estimators=100,  max_samples=1000, bootstrap=True, random_state=0)\n",
    "\n",
    "bagging_clf.fit(X_train, y_train)\n",
    "pred = bagging_clf.predict(X_test)\n",
    "bagging_accuracy = accuracy_score(y_test, pred)\n",
    "\n",
    "print(f\"Bagging Accuracy: {bagging_accuracy}\")"
   ]
  },
  {
   "cell_type": "code",
   "execution_count": 78,
   "id": "ea5f8d64-6d1f-4d00-a9a3-8513e29f4d01",
   "metadata": {},
   "outputs": [
    {
     "name": "stdout",
     "output_type": "stream",
     "text": [
      "Pasting Accuracy: 0.7791225416036308\n"
     ]
    }
   ],
   "source": [
    "#Pasting\n",
    "pasting_model = BaggingClassifier(DecisionTreeClassifier(max_depth=20), n_estimators=100, max_samples=100, bootstrap=False, random_state=0)\n",
    "\n",
    "pasting_model.fit(X_train, y_train)\n",
    "pred = pasting_model.predict(X_test)\n",
    "pasting_accuracy = accuracy_score(y_test, pred)\n",
    "\n",
    "print(f\"Pasting Accuracy: {pasting_accuracy}\")"
   ]
  },
  {
   "cell_type": "markdown",
   "id": "804575ec-d406-46db-a348-069e1ce60547",
   "metadata": {},
   "source": [
    "- Random Forest"
   ]
  },
  {
   "cell_type": "code",
   "execution_count": 79,
   "id": "1dc63fa0-9ef6-4049-8ea1-5758736b034e",
   "metadata": {},
   "outputs": [
    {
     "name": "stdout",
     "output_type": "stream",
     "text": [
      "\n",
      "Classification Report:\n",
      "               precision    recall  f1-score   support\n",
      "\n",
      "       False       0.83      0.73      0.78       653\n",
      "        True       0.77      0.86      0.81       669\n",
      "\n",
      "    accuracy                           0.80      1322\n",
      "   macro avg       0.80      0.79      0.79      1322\n",
      "weighted avg       0.80      0.80      0.79      1322\n",
      "\n",
      "Random Forest Accuracy: 0.7950075642965204\n",
      "\n",
      "Confusion Matrix:\n",
      " [[479 174]\n",
      " [ 97 572]]\n"
     ]
    }
   ],
   "source": [
    "forest = RandomForestClassifier(n_estimators=100, random_state=0)\n",
    "\n",
    "forest.fit(X_train, y_train)\n",
    "pred = forest.predict(X_test)\n",
    "\n",
    "rf_accuracy = accuracy_score(y_test, pred)\n",
    "print(\"Classification Report:\", classification_report(y_test, pred))\n",
    "print(\"Random Forest Accuracy:\", rf_accuracy)\n",
    "print(\"Confusion Matrix:\", confusion_matrix(y_test, pred))"
   ]
  },
  {
   "cell_type": "markdown",
   "id": "83fdf65f-c8ef-4d96-b98e-e8a8f96b031a",
   "metadata": {},
   "source": [
    "- Gradient Boosting"
   ]
  },
  {
   "cell_type": "code",
   "execution_count": 86,
   "id": "0f7c0b5e-d378-4789-a77d-8755558c3167",
   "metadata": {},
   "outputs": [
    {
     "name": "stdout",
     "output_type": "stream",
     "text": [
      "\n",
      "Classification Report:\n",
      "               precision    recall  f1-score   support\n",
      "\n",
      "       False       0.85      0.73      0.79       653\n",
      "        True       0.77      0.87      0.82       669\n",
      "\n",
      "    accuracy                           0.80      1322\n",
      "   macro avg       0.81      0.80      0.80      1322\n",
      "weighted avg       0.81      0.80      0.80      1322\n",
      "\n",
      "Gradient Boosting Accuracy: 0.8040847201210287\n",
      "\n",
      "Confusion Matrix:\n",
      " [[479 174]\n",
      " [ 85 584]]\n"
     ]
    },
    {
     "name": "stderr",
     "output_type": "stream",
     "text": [
      "/Users/martaalcala/miniconda3/lib/python3.12/site-packages/sklearn/base.py:486: UserWarning: X has feature names, but GradientBoostingClassifier was fitted without feature names\n",
      "  warnings.warn(\n"
     ]
    }
   ],
   "source": [
    "gb_clf = GradientBoostingClassifier(n_estimators=100, learning_rate=0.1, max_depth=3, random_state=0)\n",
    "\n",
    "gb_clf.fit(X_train, y_train)\n",
    "pred = gb_model.predict(X_test)\n",
    "gb_accuracy = accuracy_score(y_test, pred)\n",
    "\n",
    "print(\"Classification Report:\", classification_report(y_test, pred))\n",
    "print(\"Gradient Boosting Accuracy:\", gb_accuracy)\n",
    "print(\"Confusion Matrix:\", confusion_matrix(y_test, pred))"
   ]
  },
  {
   "cell_type": "markdown",
   "id": "7920bbcc-f771-41ab-aaf6-906b820fcdc8",
   "metadata": {},
   "source": [
    "- Adaptive Boosting (AdaBoosting)"
   ]
  },
  {
   "cell_type": "code",
   "execution_count": 85,
   "id": "d736dd29-7056-4abf-998c-b24933df5759",
   "metadata": {},
   "outputs": [
    {
     "name": "stderr",
     "output_type": "stream",
     "text": [
      "/Users/martaalcala/miniconda3/lib/python3.12/site-packages/sklearn/ensemble/_weight_boosting.py:527: FutureWarning: The SAMME.R algorithm (the default) is deprecated and will be removed in 1.6. Use the SAMME algorithm to circumvent this warning.\n",
      "  warnings.warn(\n"
     ]
    },
    {
     "name": "stdout",
     "output_type": "stream",
     "text": [
      "Classification Report:               precision    recall  f1-score   support\n",
      "\n",
      "       False       0.84      0.72      0.78       653\n",
      "        True       0.76      0.87      0.81       669\n",
      "\n",
      "    accuracy                           0.80      1322\n",
      "   macro avg       0.80      0.79      0.79      1322\n",
      "weighted avg       0.80      0.80      0.79      1322\n",
      "\n",
      "AdaBoost Accuracy: 0.7957639939485628\n",
      "Confusion Matrix: [[472 181]\n",
      " [ 89 580]]\n"
     ]
    }
   ],
   "source": [
    "ada_clf = AdaBoostClassifier(DecisionTreeClassifier(max_depth=1), n_estimators=100, learning_rate=1, random_state=0)\n",
    "\n",
    "ada_clf.fit(X_train, y_train)\n",
    "pred = ada_clf.predict(X_test)\n",
    "ada_accuracy = accuracy_score(y_test, pred)\n",
    "\n",
    "print(\"Classification Report:\", classification_report(y_test, pred))\n",
    "print(\"AdaBoost Accuracy:\", ada_accuracy)\n",
    "print(\"Confusion Matrix:\", confusion_matrix(y_test, pred))"
   ]
  },
  {
   "cell_type": "markdown",
   "id": "6ad631a7-6be5-4946-bddb-b13b24b1f9a3",
   "metadata": {},
   "source": [
    "- Which model is the best and why?"
   ]
  },
  {
   "cell_type": "markdown",
   "id": "bda60042-3d4f-43ce-ace8-6b0638c86707",
   "metadata": {},
   "source": [
    "Bagging = 0.796\n",
    "Pasting = 0.779\n",
    "Random Forests = 0.795\n",
    "Gradient Boosting = 0.804\n",
    "AdaBoosting = 0.796"
   ]
  },
  {
   "cell_type": "markdown",
   "id": "d685278f-a50a-484d-ad0f-6d8b18da134a",
   "metadata": {},
   "source": [
    "Select Gradient Boosting due to its higher value of accuracy in this specific result set. \n",
    "This value might be due to their sequential nature."
   ]
  }
 ],
 "metadata": {
  "kernelspec": {
   "display_name": "Python 3 (ipykernel)",
   "language": "python",
   "name": "python3"
  },
  "language_info": {
   "codemirror_mode": {
    "name": "ipython",
    "version": 3
   },
   "file_extension": ".py",
   "mimetype": "text/x-python",
   "name": "python",
   "nbconvert_exporter": "python",
   "pygments_lexer": "ipython3",
   "version": "3.12.4"
  }
 },
 "nbformat": 4,
 "nbformat_minor": 5
}
